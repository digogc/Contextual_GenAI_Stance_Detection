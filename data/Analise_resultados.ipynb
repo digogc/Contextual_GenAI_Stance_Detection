{
 "cells": [
  {
   "cell_type": "markdown",
   "id": "13b95656",
   "metadata": {},
   "source": [
    "# Analisando os resultados\n",
    "## Conjunto de dados reduzido"
   ]
  },
  {
   "cell_type": "code",
   "execution_count": 1,
   "id": "bb402763",
   "metadata": {},
   "outputs": [
    {
     "data": {
      "text/html": [
       "<div>\n",
       "<style scoped>\n",
       "    .dataframe tbody tr th:only-of-type {\n",
       "        vertical-align: middle;\n",
       "    }\n",
       "\n",
       "    .dataframe tbody tr th {\n",
       "        vertical-align: top;\n",
       "    }\n",
       "\n",
       "    .dataframe thead th {\n",
       "        text-align: right;\n",
       "    }\n",
       "</style>\n",
       "<table border=\"1\" class=\"dataframe\">\n",
       "  <thead>\n",
       "    <tr style=\"text-align: right;\">\n",
       "      <th></th>\n",
       "      <th>target_id</th>\n",
       "      <th>mensagem_id</th>\n",
       "      <th>message</th>\n",
       "      <th>target_message</th>\n",
       "      <th>parent_message</th>\n",
       "      <th>label_original</th>\n",
       "      <th>classificacao</th>\n",
       "      <th>justificativa</th>\n",
       "    </tr>\n",
       "  </thead>\n",
       "  <tbody>\n",
       "    <tr>\n",
       "      <th>0</th>\n",
       "      <td>1</td>\n",
       "      <td>2</td>\n",
       "      <td>É engraçado que, se formos seguir a lógica do ...</td>\n",
       "      <td>A paternidade deveria ser considerada nas disc...</td>\n",
       "      <td>E a paternidade, Sra. Ministra ? Considerando ...</td>\n",
       "      <td>Concorda</td>\n",
       "      <td>CONCORDA</td>\n",
       "      <td>A mensagem atual concorda com a ideia central ...</td>\n",
       "    </tr>\n",
       "    <tr>\n",
       "      <th>1</th>\n",
       "      <td>1</td>\n",
       "      <td>3</td>\n",
       "      <td>Na hora de abortar é escolha da mulher, na hor...</td>\n",
       "      <td>A paternidade deveria ser considerada nas disc...</td>\n",
       "      <td>É engraçado que, se formos seguir a lógica do ...</td>\n",
       "      <td>Concorda</td>\n",
       "      <td>DISCORDA</td>\n",
       "      <td>A mensagem atual contesta a ideia de equiparaç...</td>\n",
       "    </tr>\n",
       "    <tr>\n",
       "      <th>2</th>\n",
       "      <td>1</td>\n",
       "      <td>4</td>\n",
       "      <td>Sabe qual é o bizarro em um contexto onde o ab...</td>\n",
       "      <td>A paternidade deveria ser considerada nas disc...</td>\n",
       "      <td>Na hora de abortar é escolha da mulher, na hor...</td>\n",
       "      <td>Concorda</td>\n",
       "      <td>CONCORDA</td>\n",
       "      <td>A mensagem atual expande e aprofunda o argumen...</td>\n",
       "    </tr>\n",
       "    <tr>\n",
       "      <th>3</th>\n",
       "      <td>1</td>\n",
       "      <td>5</td>\n",
       "      <td>Alguns pontos, concordo que em caso do aborto ...</td>\n",
       "      <td>A paternidade deveria ser considerada nas disc...</td>\n",
       "      <td>Sabe qual é o bizarro em um contexto onde o ab...</td>\n",
       "      <td>Concorda</td>\n",
       "      <td>CONCORDA</td>\n",
       "      <td>A mensagem atual demonstra concordância com a ...</td>\n",
       "    </tr>\n",
       "    <tr>\n",
       "      <th>4</th>\n",
       "      <td>1</td>\n",
       "      <td>6</td>\n",
       "      <td>Em relação ao último ponto é para evitar que a...</td>\n",
       "      <td>A paternidade deveria ser considerada nas disc...</td>\n",
       "      <td>Alguns pontos, concordo que em caso do aborto ...</td>\n",
       "      <td>Outros</td>\n",
       "      <td>CONCORDA</td>\n",
       "      <td>A mensagem atual continua a desenvolver o argu...</td>\n",
       "    </tr>\n",
       "  </tbody>\n",
       "</table>\n",
       "</div>"
      ],
      "text/plain": [
       "   target_id  mensagem_id                                            message  \\\n",
       "0          1            2  É engraçado que, se formos seguir a lógica do ...   \n",
       "1          1            3  Na hora de abortar é escolha da mulher, na hor...   \n",
       "2          1            4  Sabe qual é o bizarro em um contexto onde o ab...   \n",
       "3          1            5  Alguns pontos, concordo que em caso do aborto ...   \n",
       "4          1            6  Em relação ao último ponto é para evitar que a...   \n",
       "\n",
       "                                      target_message  \\\n",
       "0  A paternidade deveria ser considerada nas disc...   \n",
       "1  A paternidade deveria ser considerada nas disc...   \n",
       "2  A paternidade deveria ser considerada nas disc...   \n",
       "3  A paternidade deveria ser considerada nas disc...   \n",
       "4  A paternidade deveria ser considerada nas disc...   \n",
       "\n",
       "                                      parent_message label_original  \\\n",
       "0  E a paternidade, Sra. Ministra ? Considerando ...       Concorda   \n",
       "1  É engraçado que, se formos seguir a lógica do ...       Concorda   \n",
       "2  Na hora de abortar é escolha da mulher, na hor...       Concorda   \n",
       "3  Sabe qual é o bizarro em um contexto onde o ab...       Concorda   \n",
       "4  Alguns pontos, concordo que em caso do aborto ...         Outros   \n",
       "\n",
       "  classificacao                                      justificativa  \n",
       "0      CONCORDA  A mensagem atual concorda com a ideia central ...  \n",
       "1      DISCORDA  A mensagem atual contesta a ideia de equiparaç...  \n",
       "2      CONCORDA  A mensagem atual expande e aprofunda o argumen...  \n",
       "3      CONCORDA  A mensagem atual demonstra concordância com a ...  \n",
       "4      CONCORDA  A mensagem atual continua a desenvolver o argu...  "
      ]
     },
     "execution_count": 1,
     "metadata": {},
     "output_type": "execute_result"
    }
   ],
   "source": [
    "import pandas as pd\n",
    "dados = pd.read_csv('checkpoint_resultados_reduzido.csv', sep=',', decimal = ',', encoding = 'UTF-8')\n",
    "dados.head(5)"
   ]
  },
  {
   "cell_type": "markdown",
   "id": "184cc01d",
   "metadata": {},
   "source": [
    "É necessário tratar as anomalias geradas pela IA e normalizar os rótulos"
   ]
  },
  {
   "cell_type": "code",
   "execution_count": 2,
   "id": "538d7dd6",
   "metadata": {},
   "outputs": [
    {
     "data": {
      "text/plain": [
       "classificacao\n",
       "DISCORDA        267\n",
       "CONCORDA        183\n",
       "OUTROS          177\n",
       "OUTROS]           2\n",
       "**DISCORDA**      1\n",
       "DISCORDA]         1\n",
       "Name: count, dtype: int64"
      ]
     },
     "execution_count": 2,
     "metadata": {},
     "output_type": "execute_result"
    }
   ],
   "source": [
    "dados['classificacao'].value_counts()"
   ]
  },
  {
   "cell_type": "code",
   "execution_count": 3,
   "id": "94f80e6e",
   "metadata": {},
   "outputs": [],
   "source": [
    "# Tratando as anomalias das classificações geradas pela IA\n",
    "dados['classificacao'] = dados['classificacao'].str.strip('*]')"
   ]
  },
  {
   "cell_type": "code",
   "execution_count": 4,
   "id": "55d39047",
   "metadata": {},
   "outputs": [
    {
     "data": {
      "text/plain": [
       "classificacao\n",
       "DISCORDA    269\n",
       "CONCORDA    183\n",
       "OUTROS      179\n",
       "Name: count, dtype: int64"
      ]
     },
     "execution_count": 4,
     "metadata": {},
     "output_type": "execute_result"
    }
   ],
   "source": [
    "dados['classificacao'].value_counts()"
   ]
  },
  {
   "cell_type": "code",
   "execution_count": 5,
   "id": "01c26398",
   "metadata": {},
   "outputs": [],
   "source": [
    "# normalizando a classificação para ficar igual a label\n",
    "dados['classificacao'] = dados['classificacao'].str.capitalize()"
   ]
  },
  {
   "cell_type": "code",
   "execution_count": 6,
   "id": "660830e4",
   "metadata": {},
   "outputs": [
    {
     "data": {
      "text/plain": [
       "classificacao\n",
       "Discorda    269\n",
       "Concorda    183\n",
       "Outros      179\n",
       "Name: count, dtype: int64"
      ]
     },
     "execution_count": 6,
     "metadata": {},
     "output_type": "execute_result"
    }
   ],
   "source": [
    "dados['classificacao'].value_counts()"
   ]
  },
  {
   "cell_type": "code",
   "execution_count": 7,
   "id": "ad1a9bc0",
   "metadata": {},
   "outputs": [
    {
     "data": {
      "text/plain": [
       "label_original\n",
       "Discorda    235\n",
       "Concorda    228\n",
       "Outros      168\n",
       "Name: count, dtype: int64"
      ]
     },
     "execution_count": 7,
     "metadata": {},
     "output_type": "execute_result"
    }
   ],
   "source": [
    "dados['label_original'].value_counts()"
   ]
  },
  {
   "cell_type": "markdown",
   "id": "f019d136",
   "metadata": {},
   "source": [
    "# Utilizando os resultados do conjunto de dados completo"
   ]
  },
  {
   "cell_type": "code",
   "execution_count": 8,
   "id": "0b30e1b5",
   "metadata": {},
   "outputs": [
    {
     "data": {
      "text/html": [
       "<div>\n",
       "<style scoped>\n",
       "    .dataframe tbody tr th:only-of-type {\n",
       "        vertical-align: middle;\n",
       "    }\n",
       "\n",
       "    .dataframe tbody tr th {\n",
       "        vertical-align: top;\n",
       "    }\n",
       "\n",
       "    .dataframe thead th {\n",
       "        text-align: right;\n",
       "    }\n",
       "</style>\n",
       "<table border=\"1\" class=\"dataframe\">\n",
       "  <thead>\n",
       "    <tr style=\"text-align: right;\">\n",
       "      <th></th>\n",
       "      <th>target_id</th>\n",
       "      <th>mensagem_id</th>\n",
       "      <th>message</th>\n",
       "      <th>target_message</th>\n",
       "      <th>parent_message</th>\n",
       "      <th>label_original</th>\n",
       "      <th>classificacao</th>\n",
       "      <th>justificativa</th>\n",
       "    </tr>\n",
       "  </thead>\n",
       "  <tbody>\n",
       "    <tr>\n",
       "      <th>0</th>\n",
       "      <td>1</td>\n",
       "      <td>2</td>\n",
       "      <td>E olha que aqui tá cheio de liberais no sub, m...</td>\n",
       "      <td>Eu acho que a direita está sendo hipócrita ao ...</td>\n",
       "      <td>Incoerência da direita: pregam menos Estado, l...</td>\n",
       "      <td>Concorda</td>\n",
       "      <td>CONCORDA</td>\n",
       "      <td>A mensagem atual concorda com a crítica implíc...</td>\n",
       "    </tr>\n",
       "    <tr>\n",
       "      <th>1</th>\n",
       "      <td>1</td>\n",
       "      <td>3</td>\n",
       "      <td>Daí dizem que defender o controle do Estado na...</td>\n",
       "      <td>Eu acho que a direita está sendo hipócrita ao ...</td>\n",
       "      <td>E olha que aqui tá cheio de liberais no sub, m...</td>\n",
       "      <td>Concorda</td>\n",
       "      <td>CONCORDA</td>\n",
       "      <td>A mensagem atual reforça a crítica à hipocrisi...</td>\n",
       "    </tr>\n",
       "    <tr>\n",
       "      <th>2</th>\n",
       "      <td>1</td>\n",
       "      <td>4</td>\n",
       "      <td>Faz uma enquete sobre legalização do aborto pa...</td>\n",
       "      <td>Eu acho que a direita está sendo hipócrita ao ...</td>\n",
       "      <td>Daí dizem que defender o controle do Estado na...</td>\n",
       "      <td>Concorda</td>\n",
       "      <td>OUTROS</td>\n",
       "      <td>A mensagem atual muda o foco da discussão orig...</td>\n",
       "    </tr>\n",
       "    <tr>\n",
       "      <th>3</th>\n",
       "      <td>1</td>\n",
       "      <td>5</td>\n",
       "      <td>Pois é... outra vez: aborto não é questão de E...</td>\n",
       "      <td>Eu acho que a direita está sendo hipócrita ao ...</td>\n",
       "      <td>Faz uma enquete sobre legalização do aborto pa...</td>\n",
       "      <td>Concorda</td>\n",
       "      <td>CONCORDA</td>\n",
       "      <td>A mensagem atual estende a crítica à intromiss...</td>\n",
       "    </tr>\n",
       "    <tr>\n",
       "      <th>4</th>\n",
       "      <td>1</td>\n",
       "      <td>6</td>\n",
       "      <td>Se depender dos conservadores, eles vão proibi...</td>\n",
       "      <td>Eu acho que a direita está sendo hipócrita ao ...</td>\n",
       "      <td>Pois é... outra vez: aborto não é questão de E...</td>\n",
       "      <td>Concorda</td>\n",
       "      <td>CONCORDA</td>\n",
       "      <td>A mensagem atual reforça a crítica à hipocrisi...</td>\n",
       "    </tr>\n",
       "  </tbody>\n",
       "</table>\n",
       "</div>"
      ],
      "text/plain": [
       "   target_id  mensagem_id                                            message  \\\n",
       "0          1            2  E olha que aqui tá cheio de liberais no sub, m...   \n",
       "1          1            3  Daí dizem que defender o controle do Estado na...   \n",
       "2          1            4  Faz uma enquete sobre legalização do aborto pa...   \n",
       "3          1            5  Pois é... outra vez: aborto não é questão de E...   \n",
       "4          1            6  Se depender dos conservadores, eles vão proibi...   \n",
       "\n",
       "                                      target_message  \\\n",
       "0  Eu acho que a direita está sendo hipócrita ao ...   \n",
       "1  Eu acho que a direita está sendo hipócrita ao ...   \n",
       "2  Eu acho que a direita está sendo hipócrita ao ...   \n",
       "3  Eu acho que a direita está sendo hipócrita ao ...   \n",
       "4  Eu acho que a direita está sendo hipócrita ao ...   \n",
       "\n",
       "                                      parent_message label_original  \\\n",
       "0  Incoerência da direita: pregam menos Estado, l...       Concorda   \n",
       "1  E olha que aqui tá cheio de liberais no sub, m...       Concorda   \n",
       "2  Daí dizem que defender o controle do Estado na...       Concorda   \n",
       "3  Faz uma enquete sobre legalização do aborto pa...       Concorda   \n",
       "4  Pois é... outra vez: aborto não é questão de E...       Concorda   \n",
       "\n",
       "  classificacao                                      justificativa  \n",
       "0      CONCORDA  A mensagem atual concorda com a crítica implíc...  \n",
       "1      CONCORDA  A mensagem atual reforça a crítica à hipocrisi...  \n",
       "2        OUTROS  A mensagem atual muda o foco da discussão orig...  \n",
       "3      CONCORDA  A mensagem atual estende a crítica à intromiss...  \n",
       "4      CONCORDA  A mensagem atual reforça a crítica à hipocrisi...  "
      ]
     },
     "execution_count": 8,
     "metadata": {},
     "output_type": "execute_result"
    }
   ],
   "source": [
    "import pandas as pd\n",
    "dados = pd.read_csv('checkpoint_resultados_completo.csv', sep=',', decimal = ',', encoding = 'UTF-8')\n",
    "dados.head(5)"
   ]
  },
  {
   "cell_type": "code",
   "execution_count": 9,
   "id": "b2d0b38c",
   "metadata": {},
   "outputs": [
    {
     "data": {
      "text/plain": [
       "classificacao\n",
       "OUTROS                            702\n",
       "DISCORDA                          676\n",
       "CONCORDA                          622\n",
       "CONCORDA]                           6\n",
       "DISCORDA]                           3\n",
       "DISCORDA`\\n`                        2\n",
       "[CONCORDA / DISCORDA / OUTROS]      2\n",
       "OUTROS]                             2\n",
       "DISCORDA`                           1\n",
       "/                                   1\n",
       "Name: count, dtype: int64"
      ]
     },
     "execution_count": 9,
     "metadata": {},
     "output_type": "execute_result"
    }
   ],
   "source": [
    "dados['classificacao'].value_counts()"
   ]
  },
  {
   "cell_type": "markdown",
   "id": "8ca33167",
   "metadata": {},
   "source": [
    "## Identificando e tratando anomalias"
   ]
  },
  {
   "cell_type": "code",
   "execution_count": 10,
   "id": "a3ea770a",
   "metadata": {},
   "outputs": [],
   "source": [
    "# Tratando as anomalias das classificações geradas pela IA\n",
    "dados['classificacao'] = dados['classificacao'].str.strip('*]`\\n')"
   ]
  },
  {
   "cell_type": "code",
   "execution_count": 11,
   "id": "13ff65bb",
   "metadata": {},
   "outputs": [
    {
     "data": {
      "text/plain": [
       "classificacao\n",
       "OUTROS                           704\n",
       "DISCORDA                         682\n",
       "CONCORDA                         628\n",
       "[CONCORDA / DISCORDA / OUTROS      2\n",
       "/                                  1\n",
       "Name: count, dtype: int64"
      ]
     },
     "execution_count": 11,
     "metadata": {},
     "output_type": "execute_result"
    }
   ],
   "source": [
    "# Identificando as anomalias\n",
    "dados['classificacao'].value_counts()"
   ]
  },
  {
   "cell_type": "code",
   "execution_count": 12,
   "id": "eb141fd7",
   "metadata": {},
   "outputs": [
    {
     "data": {
      "text/html": [
       "<div>\n",
       "<style scoped>\n",
       "    .dataframe tbody tr th:only-of-type {\n",
       "        vertical-align: middle;\n",
       "    }\n",
       "\n",
       "    .dataframe tbody tr th {\n",
       "        vertical-align: top;\n",
       "    }\n",
       "\n",
       "    .dataframe thead th {\n",
       "        text-align: right;\n",
       "    }\n",
       "</style>\n",
       "<table border=\"1\" class=\"dataframe\">\n",
       "  <thead>\n",
       "    <tr style=\"text-align: right;\">\n",
       "      <th></th>\n",
       "      <th>target_id</th>\n",
       "      <th>mensagem_id</th>\n",
       "      <th>message</th>\n",
       "      <th>target_message</th>\n",
       "      <th>parent_message</th>\n",
       "      <th>label_original</th>\n",
       "      <th>classificacao</th>\n",
       "      <th>justificativa</th>\n",
       "    </tr>\n",
       "  </thead>\n",
       "  <tbody>\n",
       "    <tr>\n",
       "      <th>1155</th>\n",
       "      <td>139</td>\n",
       "      <td>12</td>\n",
       "      <td>Ninguém liga pra visão religiosa. Casamento te...</td>\n",
       "      <td>Eu acho que casamento entre pessoas do mesmo s...</td>\n",
       "      <td>Não é casamento, pois o casamento pressupõe a ...</td>\n",
       "      <td>Discorda</td>\n",
       "      <td>[CONCORDA / DISCORDA / OUTROS</td>\n",
       "      <td>[1 a 3 frases explicando de forma clara e obje...</td>\n",
       "    </tr>\n",
       "    <tr>\n",
       "      <th>1816</th>\n",
       "      <td>218</td>\n",
       "      <td>11</td>\n",
       "      <td>[removed]</td>\n",
       "      <td>Os 10 posts mais complicados de lidar dos mode...</td>\n",
       "      <td>[removed]</td>\n",
       "      <td>Outros</td>\n",
       "      <td>[CONCORDA / DISCORDA / OUTROS</td>\n",
       "      <td>[1 a 3 frases explicando de forma clara e obje...</td>\n",
       "    </tr>\n",
       "    <tr>\n",
       "      <th>1852</th>\n",
       "      <td>223</td>\n",
       "      <td>5</td>\n",
       "      <td>Privacidade????????\\n\\nAmigo, pesquisa aí sobr...</td>\n",
       "      <td>Eu acho que as pessoas estão se enganando ao d...</td>\n",
       "      <td>O post e 80% dos comentários se achando muito ...</td>\n",
       "      <td>Discorda</td>\n",
       "      <td>/</td>\n",
       "      <td>]\\nCLASSIFICAÇÃO: DISCORDA\\nJUSTIFICATIVA: A m...</td>\n",
       "    </tr>\n",
       "  </tbody>\n",
       "</table>\n",
       "</div>"
      ],
      "text/plain": [
       "      target_id  mensagem_id  \\\n",
       "1155        139           12   \n",
       "1816        218           11   \n",
       "1852        223            5   \n",
       "\n",
       "                                                message  \\\n",
       "1155  Ninguém liga pra visão religiosa. Casamento te...   \n",
       "1816                                          [removed]   \n",
       "1852  Privacidade????????\\n\\nAmigo, pesquisa aí sobr...   \n",
       "\n",
       "                                         target_message  \\\n",
       "1155  Eu acho que casamento entre pessoas do mesmo s...   \n",
       "1816  Os 10 posts mais complicados de lidar dos mode...   \n",
       "1852  Eu acho que as pessoas estão se enganando ao d...   \n",
       "\n",
       "                                         parent_message label_original  \\\n",
       "1155  Não é casamento, pois o casamento pressupõe a ...       Discorda   \n",
       "1816                                          [removed]         Outros   \n",
       "1852  O post e 80% dos comentários se achando muito ...       Discorda   \n",
       "\n",
       "                      classificacao  \\\n",
       "1155  [CONCORDA / DISCORDA / OUTROS   \n",
       "1816  [CONCORDA / DISCORDA / OUTROS   \n",
       "1852                              /   \n",
       "\n",
       "                                          justificativa  \n",
       "1155  [1 a 3 frases explicando de forma clara e obje...  \n",
       "1816  [1 a 3 frases explicando de forma clara e obje...  \n",
       "1852  ]\\nCLASSIFICAÇÃO: DISCORDA\\nJUSTIFICATIVA: A m...  "
      ]
     },
     "execution_count": 12,
     "metadata": {},
     "output_type": "execute_result"
    }
   ],
   "source": [
    "# O agente não conseguiu distinguir qual é a classificação de algumas das linhas, expondo elas:\n",
    "dados[(dados['classificacao'] == '[CONCORDA / DISCORDA / OUTROS') | (dados['classificacao'] == '/')]"
   ]
  },
  {
   "cell_type": "code",
   "execution_count": 13,
   "id": "3a3f0dff",
   "metadata": {},
   "outputs": [
    {
     "name": "stdout",
     "output_type": "stream",
     "text": [
      "[1 a 3 frases explicando de forma clara e objetiva o motivo da classificação]\n",
      "```\n",
      "\n",
      "Exemplos:\n",
      "CONCORDA\n",
      "Mensagem de referência: Eu acho que a criminalização do aborto é um exemplo claro de como a religião pode influenciar a política de forma injusta.\n",
      "Mensagem atual: Apontar que um feto é uma vida não é suficiente para criminalizar o aborto. Precisamos de critérios objetivos.\n",
      "Justificativa: A mensagem atual concorda com o argumento da referência ao defender a descriminalização com base em critérios objetivos, reforçando a crítica à influência religiosa.\n",
      "\n",
      "DISCORDA\n",
      "Mensagem de referência: O aborto não é aceitável pois um feto é uma vida.\n",
      "Mensagem atual: O DNA não é critério suficiente para definir humanidade, e o direito à vida deveria considerar outras características.\n",
      "Justificativa: A mensagem atual contradiz diretamente o argumento da referência, ao questionar a base para considerar o feto como portador de direitos.\n",
      "\n",
      "OUTROS\n",
      "Mensagem de referência: A relativização do direito à vida abre portas para outros crimes, como o estupro.\n",
      "Mensagem atual: Defina \"espécie Homo sapiens\".\n",
      "Justificativa: A mensagem atual não se posiciona sobre o conteúdo da referência, apenas solicita uma definição.\n",
      "\n",
      "---\n",
      "\n",
      "**MENSAGEM ATUAL:**\n",
      "\n",
      "\"A discussão sobre o casamento é complexa e envolve diferentes visões de mundo. Acredito que o importante é garantir os direitos de todos, independentemente de sua orientação sexual.\"\n",
      "--------------------------\n",
      "[1 a 3 frases explicando de forma clara e objetiva o motivo da classificação]\n",
      "```\n",
      "\n",
      "### MENSAGEM ATUAL:\n",
      "Acho que a moderação deveria ser mais ativa em remover comentários que incitam a violência ou o ódio.\n",
      "\n",
      "### ANÁLISE:\n",
      "CLASSIFICAÇÃO: OUTROS\n",
      "JUSTIFICATIVA: A mensagem atual propõe uma ação (moderação mais ativa) que não se alinha diretamente com a concordância ou discordância em relação à ideia de bolhas e polarização discutida anteriormente. É uma sugestão sobre como lidar com o ambiente online, mas não toma partido na discussão sobre a dificuldade de mudar opiniões.\n",
      "--------------------------\n",
      "]\n",
      "CLASSIFICAÇÃO: DISCORDA\n",
      "JUSTIFICATIVA: A mensagem atual questiona a afirmação da mensagem de referência sobre a perda de privacidade, sugerindo que a privacidade já havia sido comprometida antes com o \"Cadastro Positivo\". Isso implica uma discordância com a ideia de que as novas regras do Pix representam uma mudança significativa em relação à privacidade.\n"
     ]
    }
   ],
   "source": [
    "# Pode-se observar que na verdade o modelo não respeitou a formatação solicitada. Verificando se a resposta está na justificativa:\n",
    "conteudo = dados.loc[1155, \"justificativa\"]\n",
    "print(conteudo)\n",
    "\n",
    "print('--------------------------')\n",
    "\n",
    "conteudo = dados.loc[1816, \"justificativa\"]\n",
    "print(conteudo)\n",
    "\n",
    "print('--------------------------')\n",
    "\n",
    "conteudo = dados.loc[1852, \"justificativa\"]\n",
    "print(conteudo)"
   ]
  },
  {
   "cell_type": "markdown",
   "id": "7b77a0e0",
   "metadata": {},
   "source": [
    "Percebe-se que as linhas 1816 e 1852 possuem um rótulo e uma justificativa, porém a formatação não veio adequada, irei extraí-los com base no que está no campo de justificativa"
   ]
  },
  {
   "cell_type": "markdown",
   "id": "69ed40f7",
   "metadata": {},
   "source": [
    "### Extraindo resposta do campo justificativa"
   ]
  },
  {
   "cell_type": "code",
   "execution_count": 14,
   "id": "fbae6e02",
   "metadata": {},
   "outputs": [],
   "source": [
    "# Definindo a função que trata a saída\n",
    "def tratar_saida(saida):\n",
    "    texto = saida.strip()\n",
    "\n",
    "    import re\n",
    "    padrao = r\"CLASSIFICAÇÃO:\\s*(.*?)\\s*JUSTIFICATIVA:\\s*(.*)\"\n",
    "    match = re.search(padrao, texto, re.DOTALL)\n",
    "\n",
    "    if match:\n",
    "        classificacao = match.group(1).strip()\n",
    "        justificativa = match.group(2).strip()\n",
    "\n",
    "    return classificacao, justificativa"
   ]
  },
  {
   "cell_type": "code",
   "execution_count": 15,
   "id": "f6bb6041",
   "metadata": {},
   "outputs": [],
   "source": [
    "# Tratando cada uma das linhas\n",
    "classificacao, justificativa = tratar_saida(dados.loc[1816, \"justificativa\"])\n",
    "\n",
    "dados.loc[1816, ['classificacao', 'justificativa']] = [classificacao, justificativa]"
   ]
  },
  {
   "cell_type": "code",
   "execution_count": 16,
   "id": "45958cef",
   "metadata": {},
   "outputs": [],
   "source": [
    "# Tratando cada uma das linhas\n",
    "classificacao, justificativa = tratar_saida(dados.loc[1852, \"justificativa\"])\n",
    "\n",
    "dados.loc[1852, ['classificacao', 'justificativa']] = [classificacao, justificativa]"
   ]
  },
  {
   "cell_type": "markdown",
   "id": "4a1d9c8e",
   "metadata": {},
   "source": [
    "### Chamando o agente para a linha 1155"
   ]
  },
  {
   "cell_type": "code",
   "execution_count": 17,
   "id": "aa1edb42",
   "metadata": {},
   "outputs": [],
   "source": [
    "# obtendo o prompt ideal para a linha 1155\n",
    "prompt = \"\"\"\n",
    "### CONVERSA (com rótulos anteriores):\n",
    "[1] MENSAGEM RAIZ: Eu acho que casamento entre pessoas do mesmo sexo não é casamento, porque casamento pressupõe geração de prole como parte da natureza dos esposos. Então, se o estado permitir que pessoas do mesmo sexo se casem, isso vai diminuir o significado do que é o casamento de verdade, que é a coisa mais importante da sociedade. Se liberar o termo casamento então para situações onde não seja gerado um filho, poderiamos usar ele para situações como masturbação mútuas entre pessoas.\n",
    "[2] Anthony_Mcmillan - RESPONDE A [1]: Pessoas estéreis, que realizaram vasectomia ou na terceira idade também deveriam ser proibidas de casar? Pessoas que optam por não ter filhos poderiam ter seus casamentos anulados após X anos? [DISCORDA]\n",
    "[3] Kevin_Whitehead - RESPONDE A [2]: \\\"pois o casamento pressupõe a capacidade de geração de prole como parte da natureza dos esposos.\\\"\\n\\nA capacidade cabeçudo, a capacidade é o estado natural e a esterelidade é a excessão, esquerdopata sempre tem dificuldade de entender lógica básica. [CONCORDA]\n",
    "[4] Charles_Vega - RESPONDE A [2]: A pessoa que é impotente não pode se casar, pois falta-lhe a potência\\n\\nA pessoa que é infértil pode, pois a infertilidade não é a falta de potência.\\n\\nNão cabe ao estado ter uma tabela de cada pessoa e suas potencias. Cabe as pessoas conhecidas dos noivos denunciarem ao público se conhecerem algum impedimento, que então há de ser investigado.\\n\\nPessoas que não abertas a terem filhos não devem, porém podem, ter seus casamentos outorgados pelo estado in limine se não antes outorgado pela Igreja, já que para o estado interessa somente a continuação da nação através da prole. Esses casamentos são chamados de casamentos josefinos e requerem uma autorização especial do bispo local. [CONCORDA]\n",
    "[5] Samantha_Carlson - RESPONDE A [1]: \\\"casamento, pois o casamento pressupõe a capacidade de geração de prole como parte da natureza dos esposos.\\\"\\n\\nNao, ha casais onde um dos conjuges nao podem ter filhos mas podem constituir familia via adoçao. Problema dessa passagem no congresso , pessoalmente, é desconsiderar a uniao estavel como unidade familiar, que impediria esses casos. Alias , deputados a favor dessa maldadr foram bem enfaticos quanto a isdi [DISCORDA]\n",
    "[6] Charles_Vega - RESPONDE A [5]: Se um dos cônjuges não pode ter filhos, e era sabido durante a  cerimônia, então eles não estão casados. [CONCORDA]\n",
    "[7] Eric_Parker - RESPONDE A [6]: Só pode casar quem quer ter filhos e quem pode ter filhos?\\nPorra, jovem... [DISCORDA]\n",
    "[8] Charles_Vega - RESPONDE A [7]: Sim. [CONCORDA]\n",
    "[9] Ryan_Bright - RESPONDE A [1]:  \\n\\nEntendo que o casamento é uma parte essencial da nossa sociedade e evoluiu ao longo do tempo para refletir a diversidade de relacionamentos e famílias que existem. Antigamente, ele tinha um foco mais na prole, mas hoje, compreendemos que ele vai muito além disso. Casamento é sobre amor, compromisso e respeito mútuo.\\n\\nPermitir que casais gays se casem é um passo importante em direção à igualdade e inclusão. Isso não diminui o significado do casamento, pelo contrário, mostra que ele pode ser uma expressão de amor em todas as suas formas. Cada casal, independente da orientação, contribui para a riqueza e diversidade da nossa sociedade.\\n\\nÉ também uma questão de respeitar os direitos humanos fundamentais, incluindo o direito de se casar e formar uma família, independentemente da orientação sexual. Ao apoiar o casamento entre pessoas do mesmo sexo, estamos construindo uma sociedade mais inclusiva e justa para todos. [DISCORDA]\n",
    "[10] Charles_Vega - RESPONDE A [9]: \\\\>  compreendemos que ele vai muito além disso. Casamento é sobre amor, compromisso e respeito mútuo. \\n\\nCasamento vai muito além disso, inclui a prole. [CONCORDA]\n",
    "[11] Kent_Blankenship - RESPONDE A [1]: Perfeito comentário. [CONCORDA]\n",
    "### MENSAGEM ATUAL:\n",
    "Samantha_Gonzalez - RESPONDE A [1]: Ninguém liga pra visão religiosa. Casamento tem um sentido legal além da religião, com implicações em herança, dependências, adoção e diversas outras coisas.\n",
    "### MENSAGEM DE REFERÊNCIA:\n",
    "Eu acho que casamento entre pessoas do mesmo sexo não é casamento, porque casamento pressupõe geração de prole como parte da natureza dos esposos. Então, se o estado permitir que pessoas do mesmo sexo se casem, isso vai diminuir o significado do que é o casamento de verdade, que é a coisa mais importante da sociedade. Se liberar o termo casamento então para situações onde não seja gerado um filho, poderiamos usar ele para situações como masturbação mútuas entre pessoas.\n",
    "Classifique o posicionamento da **mensagem atual** com relação à **mensagem de referência**. Leve em consideração todo o contexto.\n",
    "\"\"\""
   ]
  },
  {
   "cell_type": "markdown",
   "id": "d059db48",
   "metadata": {},
   "source": [
    "#### Função para utilizar o LLM"
   ]
  },
  {
   "cell_type": "code",
   "execution_count": 18,
   "id": "9ba14915",
   "metadata": {},
   "outputs": [],
   "source": [
    "from openai import OpenAI\n",
    "import os\n",
    "import dotenv\n",
    "\n",
    "dotenv.load_dotenv()\n",
    "\n",
    "def consultar_llm(prompt):\n",
    "    client = OpenAI(\n",
    "    base_url=\"https://openrouter.ai/api/v1\",\n",
    "    api_key=os.getenv(\"OPENROUTER_API_KEY\"),\n",
    "    )\n",
    "\n",
    "    completion = client.chat.completions.create(\n",
    "    model=\"google/gemma-3-27b-it:free\",\n",
    "    temperature=0.0,\n",
    "    top_p=1.0,  \n",
    "    messages=[\n",
    "        {\n",
    "\"role\": \"system\",\n",
    "\"content\": \"\"\" Você é um detector contextual de posicionamento. Sua função é analisar uma mensagem atual, levando em consideração:\n",
    "\n",
    "1. A conversa completa até o momento, composta por múltiplas mensagens anteriores, cada uma com um rótulo de posicionamento (CONCORDA, DISCORDA ou OUTROS), que indica como cada uma se posicionou em relação à sua própria mensagem de referência.\n",
    "2. A mensagem de referência, que é o ponto de partida para a análise da mensagem atual.\n",
    "\n",
    "Sua tarefa é classificar o posicionamento da mensagem atual em relação à mensagem de referência, com base no conteúdo e no contexto fornecido.\n",
    "\n",
    "Rótulos possíveis:\n",
    "1. CONCORDA – A mensagem atual expressa apoio, reforço ou alinhamento com o posicionamento da mensagem de referência. Pode repetir ideias, defender o mesmo ponto de vista ou responder positivamente à argumentação.\n",
    "2. DISCORDA – A mensagem atual refuta, contesta ou critica o ponto de vista da mensagem de referência. Pode conter contra-argumentos, ironia crítica ou rejeição explícita das ideias anteriores.\n",
    "3. OUTROS – A mensagem atual não expressa um posicionamento claro. Pode conter perguntas, pedidos de definição, comentários irrelevantes ou neutros, mudança de assunto ou ironia ambígua.\n",
    "\n",
    "Instruções:\n",
    "- Utilize a mensagem de referência como âncora para o julgamento.\n",
    "- As mensagens anteriores (com seus respectivos rótulos) servem como contexto auxiliar, ajudando a interpretar o tom e a progressão da conversa.\n",
    "- Não infira sentimentos nem intenções além do necessário: baseie-se em evidências explícitas ou logicamente implícitas.\n",
    "- Quando houver ambiguidade ou neutralidade, classifique como OUTROS.\n",
    "\n",
    "Formato de resposta:\n",
    "```\n",
    "CLASSIFICAÇÃO: [CONCORDA / DISCORDA / OUTROS]\n",
    "JUSTIFICATIVA: [1 a 3 frases explicando de forma clara e objetiva o motivo da classificação]\n",
    "```\n",
    "\n",
    "Exemplos:\n",
    "CONCORDA\n",
    "Mensagem de referência: Eu acho que a criminalização do aborto é um exemplo claro de como a religião pode influenciar a política de forma injusta.\n",
    "Mensagem atual: Apontar que um feto é uma vida não é suficiente para criminalizar o aborto. Precisamos de critérios objetivos.\n",
    "Justificativa: A mensagem atual concorda com o argumento da referência ao defender a descriminalização com base em critérios objetivos, reforçando a crítica à influência religiosa.\n",
    "\n",
    "DISCORDA\n",
    "Mensagem de referência: O aborto não é aceitável pois um feto é uma vida.\n",
    "Mensagem atual: O DNA não é critério suficiente para definir humanidade, e o direito à vida deveria considerar outras características.\n",
    "Justificativa: A mensagem atual contradiz diretamente o argumento da referência, ao questionar a base para considerar o feto como portador de direitos.\n",
    "\n",
    "OUTROS\n",
    "Mensagem de referência: A relativização do direito à vida abre portas para outros crimes, como o estupro.\n",
    "Mensagem atual: Defina \"espécie Homo sapiens\".\n",
    "Justificativa: A mensagem atual não se posiciona sobre o conteúdo da referência, apenas solicita uma definição.\n",
    "\"\"\"\n",
    "    },\n",
    "    {\n",
    "    \"role\": \"user\",\n",
    "    \"content\": prompt\n",
    "    }\n",
    "    ]\n",
    "    )\n",
    "\n",
    "    return (completion.choices[0].message.content)"
   ]
  },
  {
   "cell_type": "code",
   "execution_count": 19,
   "id": "718206de",
   "metadata": {},
   "outputs": [
    {
     "name": "stdout",
     "output_type": "stream",
     "text": [
      "DISCORDA\n",
      "-------------------\n",
      "A mensagem atual discorda da mensagem de referência ao afirmar que a visão religiosa sobre o casamento é irrelevante e que o casamento possui um significado legal que transcende a questão da procriação. Ela apresenta argumentos práticos e legais que contradizem a definição restritiva de casamento proposta na mensagem de referência.\n"
     ]
    }
   ],
   "source": [
    "resposta = consultar_llm(prompt)\n",
    "classificacao, justificativa = tratar_saida(resposta)\n",
    "\n",
    "print(classificacao)\n",
    "print('-------------------')\n",
    "print(justificativa)"
   ]
  },
  {
   "cell_type": "markdown",
   "id": "08967e0e",
   "metadata": {},
   "source": [
    "A resposta do LLM pode variar, principalmente a sua justificativa, por isso, estou colocando a primeira resposta manualmente como classificação e justificativa"
   ]
  },
  {
   "cell_type": "code",
   "execution_count": 20,
   "id": "db5f6f6c",
   "metadata": {},
   "outputs": [],
   "source": [
    "classificacao = 'DISCORDA'\n",
    "justificativa = 'A mensagem atual discorda da mensagem de referência ao desconsiderar a importância da visão religiosa e ao focar no aspecto legal do casamento, que transcende a questão da procriação. Ela argumenta que o casamento possui implicações legais importantes independentemente da capacidade de gerar filhos, o que contrasta com a premissa central da mensagem de referência.'"
   ]
  },
  {
   "cell_type": "code",
   "execution_count": 21,
   "id": "9280e3fe",
   "metadata": {},
   "outputs": [],
   "source": [
    "dados.loc[1155, ['classificacao', 'justificativa']] = [classificacao, justificativa]"
   ]
  },
  {
   "cell_type": "code",
   "execution_count": 22,
   "id": "b323d6d8",
   "metadata": {},
   "outputs": [
    {
     "data": {
      "text/plain": [
       "target_id                                                       139\n",
       "mensagem_id                                                      12\n",
       "message           Ninguém liga pra visão religiosa. Casamento te...\n",
       "target_message    Eu acho que casamento entre pessoas do mesmo s...\n",
       "parent_message    Não é casamento, pois o casamento pressupõe a ...\n",
       "label_original                                             Discorda\n",
       "classificacao                                              DISCORDA\n",
       "justificativa     A mensagem atual discorda da mensagem de refer...\n",
       "Name: 1155, dtype: object"
      ]
     },
     "execution_count": 22,
     "metadata": {},
     "output_type": "execute_result"
    }
   ],
   "source": [
    "dados.loc[1155]"
   ]
  },
  {
   "cell_type": "markdown",
   "id": "39a09c67",
   "metadata": {},
   "source": [
    "## Verificando as classificações pós-tratamento"
   ]
  },
  {
   "cell_type": "code",
   "execution_count": 23,
   "id": "4444874b",
   "metadata": {},
   "outputs": [
    {
     "data": {
      "text/plain": [
       "classificacao\n",
       "OUTROS      705\n",
       "DISCORDA    684\n",
       "CONCORDA    628\n",
       "Name: count, dtype: int64"
      ]
     },
     "execution_count": 23,
     "metadata": {},
     "output_type": "execute_result"
    }
   ],
   "source": [
    "dados['classificacao'].value_counts()"
   ]
  },
  {
   "cell_type": "code",
   "execution_count": 24,
   "id": "32083f5a",
   "metadata": {},
   "outputs": [],
   "source": [
    "# normalizando a classificação para ficar igual a label\n",
    "dados['classificacao'] = dados['classificacao'].str.capitalize()"
   ]
  },
  {
   "cell_type": "code",
   "execution_count": 25,
   "id": "0fc054d1",
   "metadata": {},
   "outputs": [
    {
     "data": {
      "text/plain": [
       "label_original\n",
       "Concorda    708\n",
       "Outros      692\n",
       "Discorda    617\n",
       "Name: count, dtype: int64"
      ]
     },
     "execution_count": 25,
     "metadata": {},
     "output_type": "execute_result"
    }
   ],
   "source": [
    "dados['label_original'].value_counts()"
   ]
  },
  {
   "cell_type": "markdown",
   "id": "aaf9d044",
   "metadata": {},
   "source": [
    "# Extraindo as métricas"
   ]
  },
  {
   "cell_type": "code",
   "execution_count": 26,
   "id": "a529b4e6",
   "metadata": {},
   "outputs": [],
   "source": [
    "# realizando os imports necessários\n",
    "from sklearn.metrics import confusion_matrix, accuracy_score, precision_score, recall_score, f1_score, classification_report\n",
    "import pandas as pd\n",
    "import seaborn as sns\n",
    "import matplotlib.pyplot as plt"
   ]
  },
  {
   "cell_type": "code",
   "execution_count": 27,
   "id": "6ee458c9",
   "metadata": {},
   "outputs": [],
   "source": [
    "# definindo o y verdadeiro e o y predito\n",
    "y_true = dados['label_original']\n",
    "y_pred = dados['classificacao']"
   ]
  },
  {
   "cell_type": "code",
   "execution_count": 28,
   "id": "d1c04f34",
   "metadata": {},
   "outputs": [
    {
     "name": "stdout",
     "output_type": "stream",
     "text": [
      "Acurácia: 0.6311\n",
      "Precisão: 0.6333\n",
      "Revocação: 0.6311\n",
      "F1-score: 0.6309\n"
     ]
    }
   ],
   "source": [
    "# Calculando cada uma das métricas\n",
    "acuracia = accuracy_score(y_true, y_pred)\n",
    "precisao = precision_score(y_true, y_pred, average='weighted')  # weighted para lidar com classes desbalanceadas\n",
    "revocacao = recall_score(y_true, y_pred, average='weighted')\n",
    "f1 = f1_score(y_true, y_pred, average='weighted')\n",
    "\n",
    "print(f\"Acurácia: {acuracia:.4f}\")\n",
    "print(f\"Precisão: {precisao:.4f}\")\n",
    "print(f\"Revocação: {revocacao:.4f}\")\n",
    "print(f\"F1-score: {f1:.4f}\")"
   ]
  },
  {
   "cell_type": "code",
   "execution_count": 29,
   "id": "4af815bd",
   "metadata": {},
   "outputs": [
    {
     "name": "stdout",
     "output_type": "stream",
     "text": [
      "              precision    recall  f1-score   support\n",
      "\n",
      "    Concorda       0.66      0.58      0.62       708\n",
      "    Discorda       0.60      0.66      0.63       617\n",
      "      Outros       0.64      0.65      0.64       692\n",
      "\n",
      "    accuracy                           0.63      2017\n",
      "   macro avg       0.63      0.63      0.63      2017\n",
      "weighted avg       0.63      0.63      0.63      2017\n",
      "\n"
     ]
    }
   ],
   "source": [
    "# obtendo o relatório completo de classificação\n",
    "print(classification_report(y_true, y_pred))"
   ]
  },
  {
   "cell_type": "code",
   "execution_count": 30,
   "id": "02757ca6",
   "metadata": {},
   "outputs": [
    {
     "data": {
      "image/png": "[encoded data removed]",
      "text/plain": [
       "<Figure size 600x400 with 2 Axes>"
      ]
     },
     "metadata": {},
     "output_type": "display_data"
    }
   ],
   "source": [
    "# visualizando a matriz de confusão\n",
    "cm = confusion_matrix(y_true, y_pred)\n",
    "\n",
    "plt.figure(figsize=(6,4))\n",
    "sns.heatmap(cm, annot=True, fmt='d', cmap='Blues',\n",
    "            xticklabels=dados['label_original'].unique(),\n",
    "            yticklabels=dados['label_original'].unique())\n",
    "plt.xlabel('Predição')\n",
    "plt.ylabel('Verdadeiro')\n",
    "plt.title('Matriz de Confusão')\n",
    "plt.show()"
   ]
  },
  {
   "cell_type": "markdown",
   "id": "3a613de1",
   "metadata": {},
   "source": [
    "## Conclusões extraídas das métricas"
   ]
  },
  {
   "cell_type": "markdown",
   "id": "f4245291",
   "metadata": {},
   "source": [
    "O rótulo com melhor desempenho foi o \"Outros\". Obtendo um melhor resultado em f1-score (que é o balanço entre sensibilidade e precisão).  \n",
    "  \n",
    "O rótulo que obteve a melhor sensibilidade, ou seja, quando um dado com um determinado rótulo passa pelo modelo, o modelo acerta seu rótulo, foi o Discorda, com o valor de 66%.  \n",
    "  \n",
    "O rótulo que obteve a melhor precisão, ou seja, quando o modelo diz que um determinado dado pertence a um rótulo, ele realmente tem este rótulo, foi o Concorda, com o valor de 66%.  \n",
    "  \n",
    "Ademais, o resultado para todo o conjunto possui um resultado de 63% nas principais métricas (acurácia, f1, recall e precisão [com médias macro e ponderadas])"
   ]
  },
  {
   "cell_type": "markdown",
   "id": "c52c7972",
   "metadata": {},
   "source": [
    "## Enriquecimento dos dados"
   ]
  },
  {
   "cell_type": "markdown",
   "id": "6d1aa81b",
   "metadata": {},
   "source": [
    "Adicionando qual o assunto da conversa para uma melhor análise dos resultados."
   ]
  },
  {
   "cell_type": "markdown",
   "id": "5e6f7a79",
   "metadata": {},
   "source": [
    "### Tratando o conjunto de dados que possui o assunto"
   ]
  },
  {
   "cell_type": "code",
   "execution_count": 31,
   "id": "21d0f132",
   "metadata": {},
   "outputs": [],
   "source": [
    "# Leitura e tratamento dos rótulos\n",
    "dados_assunto = pd.read_csv('./conjuntoDeDadosAssunto.tsv', sep='\\t', decimal = ',', encoding = 'UTF-8')\n",
    "\n",
    "dados_assunto = dados_assunto[(dados_assunto['label'] != 'Alvo da conversa') & (dados_assunto['label'] != 'Comentário Original') & (dados_assunto['label'].notna())]\n",
    "\n",
    "\n",
    "dados_assunto['label'] = dados_assunto['label'].replace('Discute', 'Outros')\n",
    "dados_assunto['label'] = dados_assunto['label'].replace('Irrelevante', 'Outros')\n",
    "dados_assunto['label'] = dados_assunto['label'].replace('Pede Informações', 'Outros')\n",
    "\n",
    "dados_assunto['parent_label'] = dados_assunto['parent_label'].replace('Discute', 'Outros')\n",
    "dados_assunto['parent_label'] = dados_assunto['parent_label'].replace('Irrelevante', 'Outros')\n",
    "dados_assunto['parent_label'] = dados_assunto['parent_label'].replace('Pede Informações', 'Outros')"
   ]
  },
  {
   "cell_type": "code",
   "execution_count": 32,
   "id": "b48aa8c5",
   "metadata": {},
   "outputs": [
    {
     "name": "stderr",
     "output_type": "stream",
     "text": [
      "C:\\Users\\digog\\AppData\\Local\\Temp\\ipykernel_13468\\3084037080.py:12: DeprecationWarning: DataFrameGroupBy.apply operated on the grouping columns. This behavior is deprecated, and in a future version of pandas the grouping columns will be excluded from the operation. Either pass `include_groups=False` to exclude the groupings or explicitly select the grouping columns after groupby to silence this warning.\n",
      "  df = df.groupby('target_id', group_keys=False).apply(renumerar_ids)\n"
     ]
    },
    {
     "data": {
      "text/html": [
       "<div>\n",
       "<style scoped>\n",
       "    .dataframe tbody tr th:only-of-type {\n",
       "        vertical-align: middle;\n",
       "    }\n",
       "\n",
       "    .dataframe tbody tr th {\n",
       "        vertical-align: top;\n",
       "    }\n",
       "\n",
       "    .dataframe thead th {\n",
       "        text-align: right;\n",
       "    }\n",
       "</style>\n",
       "<table border=\"1\" class=\"dataframe\">\n",
       "  <thead>\n",
       "    <tr style=\"text-align: right;\">\n",
       "      <th></th>\n",
       "      <th>assunto</th>\n",
       "      <th>target_id</th>\n",
       "      <th>target_message</th>\n",
       "      <th>id</th>\n",
       "      <th>parent_id</th>\n",
       "      <th>author</th>\n",
       "      <th>parent_name</th>\n",
       "      <th>parent_message</th>\n",
       "      <th>message</th>\n",
       "      <th>parent_label</th>\n",
       "      <th>target_parent_message</th>\n",
       "      <th>target_and_message</th>\n",
       "      <th>label</th>\n",
       "    </tr>\n",
       "  </thead>\n",
       "  <tbody>\n",
       "    <tr>\n",
       "      <th>0</th>\n",
       "      <td>drogas</td>\n",
       "      <td>1</td>\n",
       "      <td>Eu acho que a direita está sendo hipócrita ao ...</td>\n",
       "      <td>1</td>\n",
       "      <td>NaN</td>\n",
       "      <td>Gerald_Huber</td>\n",
       "      <td>Raiz</td>\n",
       "      <td>NaN</td>\n",
       "      <td>Incoerência da direita: pregam menos Estado, l...</td>\n",
       "      <td>Alvo da conversa</td>\n",
       "      <td>Eu acho que a direita está sendo hipócrita ao ...</td>\n",
       "      <td>Eu acho que a direita está sendo hipócrita ao ...</td>\n",
       "      <td>Concorda</td>\n",
       "    </tr>\n",
       "    <tr>\n",
       "      <th>1</th>\n",
       "      <td>drogas</td>\n",
       "      <td>1</td>\n",
       "      <td>Eu acho que a direita está sendo hipócrita ao ...</td>\n",
       "      <td>2</td>\n",
       "      <td>1.0</td>\n",
       "      <td>Jeremy_Newman</td>\n",
       "      <td>Gerald_Huber</td>\n",
       "      <td>Incoerência da direita: pregam menos Estado, l...</td>\n",
       "      <td>E olha que aqui tá cheio de liberais no sub, m...</td>\n",
       "      <td>Concorda</td>\n",
       "      <td>Eu acho que a direita está sendo hipócrita ao ...</td>\n",
       "      <td>Eu acho que a direita está sendo hipócrita ao ...</td>\n",
       "      <td>Concorda</td>\n",
       "    </tr>\n",
       "    <tr>\n",
       "      <th>2</th>\n",
       "      <td>drogas</td>\n",
       "      <td>1</td>\n",
       "      <td>Eu acho que a direita está sendo hipócrita ao ...</td>\n",
       "      <td>3</td>\n",
       "      <td>2.0</td>\n",
       "      <td>Gerald_Huber</td>\n",
       "      <td>Jeremy_Newman</td>\n",
       "      <td>E olha que aqui tá cheio de liberais no sub, m...</td>\n",
       "      <td>Daí dizem que defender o controle do Estado na...</td>\n",
       "      <td>Concorda</td>\n",
       "      <td>Eu acho que a direita está sendo hipócrita ao ...</td>\n",
       "      <td>Eu acho que a direita está sendo hipócrita ao ...</td>\n",
       "      <td>Concorda</td>\n",
       "    </tr>\n",
       "  </tbody>\n",
       "</table>\n",
       "</div>"
      ],
      "text/plain": [
       "  assunto  target_id                                     target_message  id  \\\n",
       "0  drogas          1  Eu acho que a direita está sendo hipócrita ao ...   1   \n",
       "1  drogas          1  Eu acho que a direita está sendo hipócrita ao ...   2   \n",
       "2  drogas          1  Eu acho que a direita está sendo hipócrita ao ...   3   \n",
       "\n",
       "   parent_id         author    parent_name  \\\n",
       "0        NaN   Gerald_Huber           Raiz   \n",
       "1        1.0  Jeremy_Newman   Gerald_Huber   \n",
       "2        2.0   Gerald_Huber  Jeremy_Newman   \n",
       "\n",
       "                                      parent_message  \\\n",
       "0                                                NaN   \n",
       "1  Incoerência da direita: pregam menos Estado, l...   \n",
       "2  E olha que aqui tá cheio de liberais no sub, m...   \n",
       "\n",
       "                                             message      parent_label  \\\n",
       "0  Incoerência da direita: pregam menos Estado, l...  Alvo da conversa   \n",
       "1  E olha que aqui tá cheio de liberais no sub, m...          Concorda   \n",
       "2  Daí dizem que defender o controle do Estado na...          Concorda   \n",
       "\n",
       "                               target_parent_message  \\\n",
       "0  Eu acho que a direita está sendo hipócrita ao ...   \n",
       "1  Eu acho que a direita está sendo hipócrita ao ...   \n",
       "2  Eu acho que a direita está sendo hipócrita ao ...   \n",
       "\n",
       "                                  target_and_message     label  \n",
       "0  Eu acho que a direita está sendo hipócrita ao ...  Concorda  \n",
       "1  Eu acho que a direita está sendo hipócrita ao ...  Concorda  \n",
       "2  Eu acho que a direita está sendo hipócrita ao ...  Concorda  "
      ]
     },
     "execution_count": 32,
     "metadata": {},
     "output_type": "execute_result"
    }
   ],
   "source": [
    "# Implementando a lógica de id sequencial\n",
    "df = dados_assunto.copy()\n",
    "\n",
    "# Função para renumerar ids dentro de cada target_id\n",
    "def renumerar_ids(grupo):\n",
    "    mapping = {old_id: i+1 for i, old_id in enumerate(grupo['id'].unique())}\n",
    "    grupo['id'] = grupo['id'].map(mapping)\n",
    "    grupo['parent_id'] = grupo['parent_id'].map(mapping)\n",
    "    return grupo\n",
    "\n",
    "# Aplicar por target_id\n",
    "df = df.groupby('target_id', group_keys=False).apply(renumerar_ids)\n",
    "\n",
    "# Conferir resultado\n",
    "dados_assunto = df.sort_values(by=['target_id', 'id'])\n",
    "dados_assunto.head(3)"
   ]
  },
  {
   "cell_type": "code",
   "execution_count": 33,
   "id": "372a4634",
   "metadata": {},
   "outputs": [
    {
     "data": {
      "text/html": [
       "<div>\n",
       "<style scoped>\n",
       "    .dataframe tbody tr th:only-of-type {\n",
       "        vertical-align: middle;\n",
       "    }\n",
       "\n",
       "    .dataframe tbody tr th {\n",
       "        vertical-align: top;\n",
       "    }\n",
       "\n",
       "    .dataframe thead th {\n",
       "        text-align: right;\n",
       "    }\n",
       "</style>\n",
       "<table border=\"1\" class=\"dataframe\">\n",
       "  <thead>\n",
       "    <tr style=\"text-align: right;\">\n",
       "      <th></th>\n",
       "      <th>assunto</th>\n",
       "      <th>target_id</th>\n",
       "      <th>target_message</th>\n",
       "      <th>id</th>\n",
       "      <th>parent_id</th>\n",
       "      <th>author</th>\n",
       "      <th>parent_name</th>\n",
       "      <th>parent_message</th>\n",
       "      <th>message</th>\n",
       "      <th>parent_label</th>\n",
       "      <th>target_parent_message</th>\n",
       "      <th>target_and_message</th>\n",
       "      <th>label</th>\n",
       "    </tr>\n",
       "  </thead>\n",
       "  <tbody>\n",
       "    <tr>\n",
       "      <th>1</th>\n",
       "      <td>drogas</td>\n",
       "      <td>1</td>\n",
       "      <td>Eu acho que a direita está sendo hipócrita ao ...</td>\n",
       "      <td>2</td>\n",
       "      <td>1</td>\n",
       "      <td>Jeremy_Newman</td>\n",
       "      <td>Gerald_Huber</td>\n",
       "      <td>Incoerência da direita: pregam menos Estado, l...</td>\n",
       "      <td>E olha que aqui tá cheio de liberais no sub, m...</td>\n",
       "      <td>Concorda</td>\n",
       "      <td>Eu acho que a direita está sendo hipócrita ao ...</td>\n",
       "      <td>Eu acho que a direita está sendo hipócrita ao ...</td>\n",
       "      <td>Concorda</td>\n",
       "    </tr>\n",
       "    <tr>\n",
       "      <th>2</th>\n",
       "      <td>drogas</td>\n",
       "      <td>1</td>\n",
       "      <td>Eu acho que a direita está sendo hipócrita ao ...</td>\n",
       "      <td>3</td>\n",
       "      <td>2</td>\n",
       "      <td>Gerald_Huber</td>\n",
       "      <td>Jeremy_Newman</td>\n",
       "      <td>E olha que aqui tá cheio de liberais no sub, m...</td>\n",
       "      <td>Daí dizem que defender o controle do Estado na...</td>\n",
       "      <td>Concorda</td>\n",
       "      <td>Eu acho que a direita está sendo hipócrita ao ...</td>\n",
       "      <td>Eu acho que a direita está sendo hipócrita ao ...</td>\n",
       "      <td>Concorda</td>\n",
       "    </tr>\n",
       "    <tr>\n",
       "      <th>3</th>\n",
       "      <td>drogas</td>\n",
       "      <td>1</td>\n",
       "      <td>Eu acho que a direita está sendo hipócrita ao ...</td>\n",
       "      <td>4</td>\n",
       "      <td>3</td>\n",
       "      <td>Jeremy_Newman</td>\n",
       "      <td>Gerald_Huber</td>\n",
       "      <td>Daí dizem que defender o controle do Estado na...</td>\n",
       "      <td>Faz uma enquete sobre legalização do aborto pa...</td>\n",
       "      <td>Concorda</td>\n",
       "      <td>Eu acho que a direita está sendo hipócrita ao ...</td>\n",
       "      <td>Eu acho que a direita está sendo hipócrita ao ...</td>\n",
       "      <td>Concorda</td>\n",
       "    </tr>\n",
       "  </tbody>\n",
       "</table>\n",
       "</div>"
      ],
      "text/plain": [
       "  assunto  target_id                                     target_message  id  \\\n",
       "1  drogas          1  Eu acho que a direita está sendo hipócrita ao ...   2   \n",
       "2  drogas          1  Eu acho que a direita está sendo hipócrita ao ...   3   \n",
       "3  drogas          1  Eu acho que a direita está sendo hipócrita ao ...   4   \n",
       "\n",
       "   parent_id         author    parent_name  \\\n",
       "1          1  Jeremy_Newman   Gerald_Huber   \n",
       "2          2   Gerald_Huber  Jeremy_Newman   \n",
       "3          3  Jeremy_Newman   Gerald_Huber   \n",
       "\n",
       "                                      parent_message  \\\n",
       "1  Incoerência da direita: pregam menos Estado, l...   \n",
       "2  E olha que aqui tá cheio de liberais no sub, m...   \n",
       "3  Daí dizem que defender o controle do Estado na...   \n",
       "\n",
       "                                             message parent_label  \\\n",
       "1  E olha que aqui tá cheio de liberais no sub, m...     Concorda   \n",
       "2  Daí dizem que defender o controle do Estado na...     Concorda   \n",
       "3  Faz uma enquete sobre legalização do aborto pa...     Concorda   \n",
       "\n",
       "                               target_parent_message  \\\n",
       "1  Eu acho que a direita está sendo hipócrita ao ...   \n",
       "2  Eu acho que a direita está sendo hipócrita ao ...   \n",
       "3  Eu acho que a direita está sendo hipócrita ao ...   \n",
       "\n",
       "                                  target_and_message     label  \n",
       "1  Eu acho que a direita está sendo hipócrita ao ...  Concorda  \n",
       "2  Eu acho que a direita está sendo hipócrita ao ...  Concorda  \n",
       "3  Eu acho que a direita está sendo hipócrita ao ...  Concorda  "
      ]
     },
     "execution_count": 33,
     "metadata": {},
     "output_type": "execute_result"
    }
   ],
   "source": [
    "# Removendo as mensagens sem parent ID\n",
    "dados_assunto = dados_assunto[dados_assunto['id'] != 1]\n",
    "\n",
    "# garantindo que as labels importantes para a nova estrutura de dados que será aplicada funcione\n",
    "dados_assunto[\"id\"] = pd.to_numeric(dados_assunto[\"id\"], errors=\"coerce\")\n",
    "dados_assunto[\"parent_id\"] = pd.to_numeric(dados_assunto[\"parent_id\"], errors=\"coerce\").astype('Int64')\n",
    "\n",
    "dados_assunto.head(3)"
   ]
  },
  {
   "cell_type": "code",
   "execution_count": 34,
   "id": "1b0be355",
   "metadata": {},
   "outputs": [
    {
     "data": {
      "text/html": [
       "<div>\n",
       "<style scoped>\n",
       "    .dataframe tbody tr th:only-of-type {\n",
       "        vertical-align: middle;\n",
       "    }\n",
       "\n",
       "    .dataframe tbody tr th {\n",
       "        vertical-align: top;\n",
       "    }\n",
       "\n",
       "    .dataframe thead th {\n",
       "        text-align: right;\n",
       "    }\n",
       "</style>\n",
       "<table border=\"1\" class=\"dataframe\">\n",
       "  <thead>\n",
       "    <tr style=\"text-align: right;\">\n",
       "      <th></th>\n",
       "      <th>target_id</th>\n",
       "      <th>mensagem_id</th>\n",
       "      <th>message</th>\n",
       "      <th>target_message</th>\n",
       "      <th>parent_message</th>\n",
       "      <th>label_original</th>\n",
       "      <th>classificacao</th>\n",
       "      <th>justificativa</th>\n",
       "      <th>assunto</th>\n",
       "    </tr>\n",
       "  </thead>\n",
       "  <tbody>\n",
       "    <tr>\n",
       "      <th>0</th>\n",
       "      <td>1</td>\n",
       "      <td>2</td>\n",
       "      <td>E olha que aqui tá cheio de liberais no sub, m...</td>\n",
       "      <td>Eu acho que a direita está sendo hipócrita ao ...</td>\n",
       "      <td>Incoerência da direita: pregam menos Estado, l...</td>\n",
       "      <td>Concorda</td>\n",
       "      <td>Concorda</td>\n",
       "      <td>A mensagem atual concorda com a crítica implíc...</td>\n",
       "      <td>drogas</td>\n",
       "    </tr>\n",
       "    <tr>\n",
       "      <th>1</th>\n",
       "      <td>1</td>\n",
       "      <td>3</td>\n",
       "      <td>Daí dizem que defender o controle do Estado na...</td>\n",
       "      <td>Eu acho que a direita está sendo hipócrita ao ...</td>\n",
       "      <td>E olha que aqui tá cheio de liberais no sub, m...</td>\n",
       "      <td>Concorda</td>\n",
       "      <td>Concorda</td>\n",
       "      <td>A mensagem atual reforça a crítica à hipocrisi...</td>\n",
       "      <td>drogas</td>\n",
       "    </tr>\n",
       "    <tr>\n",
       "      <th>2</th>\n",
       "      <td>1</td>\n",
       "      <td>4</td>\n",
       "      <td>Faz uma enquete sobre legalização do aborto pa...</td>\n",
       "      <td>Eu acho que a direita está sendo hipócrita ao ...</td>\n",
       "      <td>Daí dizem que defender o controle do Estado na...</td>\n",
       "      <td>Concorda</td>\n",
       "      <td>Outros</td>\n",
       "      <td>A mensagem atual muda o foco da discussão orig...</td>\n",
       "      <td>drogas</td>\n",
       "    </tr>\n",
       "    <tr>\n",
       "      <th>3</th>\n",
       "      <td>1</td>\n",
       "      <td>5</td>\n",
       "      <td>Pois é... outra vez: aborto não é questão de E...</td>\n",
       "      <td>Eu acho que a direita está sendo hipócrita ao ...</td>\n",
       "      <td>Faz uma enquete sobre legalização do aborto pa...</td>\n",
       "      <td>Concorda</td>\n",
       "      <td>Concorda</td>\n",
       "      <td>A mensagem atual estende a crítica à intromiss...</td>\n",
       "      <td>drogas</td>\n",
       "    </tr>\n",
       "    <tr>\n",
       "      <th>4</th>\n",
       "      <td>1</td>\n",
       "      <td>6</td>\n",
       "      <td>Se depender dos conservadores, eles vão proibi...</td>\n",
       "      <td>Eu acho que a direita está sendo hipócrita ao ...</td>\n",
       "      <td>Pois é... outra vez: aborto não é questão de E...</td>\n",
       "      <td>Concorda</td>\n",
       "      <td>Concorda</td>\n",
       "      <td>A mensagem atual reforça a crítica à hipocrisi...</td>\n",
       "      <td>drogas</td>\n",
       "    </tr>\n",
       "  </tbody>\n",
       "</table>\n",
       "</div>"
      ],
      "text/plain": [
       "   target_id  mensagem_id                                            message  \\\n",
       "0          1            2  E olha que aqui tá cheio de liberais no sub, m...   \n",
       "1          1            3  Daí dizem que defender o controle do Estado na...   \n",
       "2          1            4  Faz uma enquete sobre legalização do aborto pa...   \n",
       "3          1            5  Pois é... outra vez: aborto não é questão de E...   \n",
       "4          1            6  Se depender dos conservadores, eles vão proibi...   \n",
       "\n",
       "                                      target_message  \\\n",
       "0  Eu acho que a direita está sendo hipócrita ao ...   \n",
       "1  Eu acho que a direita está sendo hipócrita ao ...   \n",
       "2  Eu acho que a direita está sendo hipócrita ao ...   \n",
       "3  Eu acho que a direita está sendo hipócrita ao ...   \n",
       "4  Eu acho que a direita está sendo hipócrita ao ...   \n",
       "\n",
       "                                      parent_message label_original  \\\n",
       "0  Incoerência da direita: pregam menos Estado, l...       Concorda   \n",
       "1  E olha que aqui tá cheio de liberais no sub, m...       Concorda   \n",
       "2  Daí dizem que defender o controle do Estado na...       Concorda   \n",
       "3  Faz uma enquete sobre legalização do aborto pa...       Concorda   \n",
       "4  Pois é... outra vez: aborto não é questão de E...       Concorda   \n",
       "\n",
       "  classificacao                                      justificativa assunto  \n",
       "0      Concorda  A mensagem atual concorda com a crítica implíc...  drogas  \n",
       "1      Concorda  A mensagem atual reforça a crítica à hipocrisi...  drogas  \n",
       "2        Outros  A mensagem atual muda o foco da discussão orig...  drogas  \n",
       "3      Concorda  A mensagem atual estende a crítica à intromiss...  drogas  \n",
       "4      Concorda  A mensagem atual reforça a crítica à hipocrisi...  drogas  "
      ]
     },
     "execution_count": 34,
     "metadata": {},
     "output_type": "execute_result"
    }
   ],
   "source": [
    "# Fazendo merge, mantendo todas as colunas de dados e apenas \"assunto\" de dados_assunto\n",
    "df_enriquecido = pd.merge(\n",
    "    dados,\n",
    "    dados_assunto[[\"id\", \"target_id\", \"assunto\"]],\n",
    "    left_on=[\"mensagem_id\", \"target_id\"],\n",
    "    right_on=[\"id\", \"target_id\"]\n",
    ").drop(columns=[\"id\"])\n",
    "\n",
    "df_enriquecido.head(5)"
   ]
  },
  {
   "cell_type": "code",
   "execution_count": 35,
   "id": "1f6a7e6f",
   "metadata": {},
   "outputs": [
    {
     "name": "stdout",
     "output_type": "stream",
     "text": [
      "\n",
      "===== Assunto: aborto =====\n",
      "Acurácia: 0.6624\n",
      "Precisão: 0.6733\n",
      "Revocação: 0.6624\n",
      "F1-score: 0.6631\n",
      "\n",
      "Relatório de Classificação:\n",
      "              precision    recall  f1-score   support\n",
      "\n",
      "    Concorda       0.75      0.60      0.67       241\n",
      "    Discorda       0.68      0.75      0.72       247\n",
      "      Outros       0.53      0.62      0.57       143\n",
      "\n",
      "    accuracy                           0.66       631\n",
      "   macro avg       0.65      0.66      0.65       631\n",
      "weighted avg       0.67      0.66      0.66       631\n",
      "\n"
     ]
    },
    {
     "data": {
      "image/png": "[encoded data removed]",
      "text/plain": [
       "<Figure size 500x400 with 2 Axes>"
      ]
     },
     "metadata": {},
     "output_type": "display_data"
    },
    {
     "name": "stdout",
     "output_type": "stream",
     "text": [
      "\n",
      "===== Assunto: drogas =====\n",
      "Acurácia: 0.5917\n",
      "Precisão: 0.6032\n",
      "Revocação: 0.5917\n",
      "F1-score: 0.5940\n",
      "\n",
      "Relatório de Classificação:\n",
      "              precision    recall  f1-score   support\n",
      "\n",
      "    Concorda       0.59      0.59      0.59       137\n",
      "    Discorda       0.50      0.61      0.55       106\n",
      "      Outros       0.69      0.58      0.63       144\n",
      "\n",
      "    accuracy                           0.59       387\n",
      "   macro avg       0.59      0.59      0.59       387\n",
      "weighted avg       0.60      0.59      0.59       387\n",
      "\n"
     ]
    },
    {
     "data": {
      "image/png": "[encoded data removed]",
      "text/plain": [
       "<Figure size 500x400 with 2 Axes>"
      ]
     },
     "metadata": {},
     "output_type": "display_data"
    },
    {
     "name": "stdout",
     "output_type": "stream",
     "text": [
      "\n",
      "===== Assunto: pix =====\n",
      "Acurácia: 0.6132\n",
      "Precisão: 0.6402\n",
      "Revocação: 0.6132\n",
      "F1-score: 0.6204\n",
      "\n",
      "Relatório de Classificação:\n",
      "              precision    recall  f1-score   support\n",
      "\n",
      "    Concorda       0.47      0.63      0.54        81\n",
      "    Discorda       0.53      0.54      0.53        67\n",
      "      Outros       0.77      0.64      0.69       170\n",
      "\n",
      "    accuracy                           0.61       318\n",
      "   macro avg       0.59      0.60      0.59       318\n",
      "weighted avg       0.64      0.61      0.62       318\n",
      "\n"
     ]
    },
    {
     "data": {
      "image/png": "[encoded data removed]",
      "text/plain": [
       "<Figure size 500x400 with 2 Axes>"
      ]
     },
     "metadata": {},
     "output_type": "display_data"
    },
    {
     "name": "stdout",
     "output_type": "stream",
     "text": [
      "\n",
      "===== Assunto: sexualidade =====\n",
      "Acurácia: 0.6329\n",
      "Precisão: 0.6443\n",
      "Revocação: 0.6329\n",
      "F1-score: 0.6323\n",
      "\n",
      "Relatório de Classificação:\n",
      "              precision    recall  f1-score   support\n",
      "\n",
      "    Concorda       0.73      0.55      0.63       249\n",
      "    Discorda       0.57      0.62      0.60       197\n",
      "      Outros       0.61      0.72      0.66       235\n",
      "\n",
      "    accuracy                           0.63       681\n",
      "   macro avg       0.64      0.63      0.63       681\n",
      "weighted avg       0.64      0.63      0.63       681\n",
      "\n"
     ]
    },
    {
     "data": {
      "image/png": "[encoded data removed]",
      "text/plain": [
       "<Figure size 500x400 with 2 Axes>"
      ]
     },
     "metadata": {},
     "output_type": "display_data"
    }
   ],
   "source": [
    "from sklearn.metrics import accuracy_score, precision_score, recall_score, f1_score, classification_report, confusion_matrix\n",
    "import seaborn as sns\n",
    "import matplotlib.pyplot as plt\n",
    "\n",
    "# Loop por cada assunto\n",
    "for assunto, grupo in df_enriquecido.groupby(\"assunto\"):\n",
    "    print(f\"\\n===== Assunto: {assunto} =====\")\n",
    "    \n",
    "    y_true = grupo['label_original']\n",
    "    y_pred = grupo['classificacao']\n",
    "    \n",
    "    # Métricas\n",
    "    acuracia = accuracy_score(y_true, y_pred)\n",
    "    precisao = precision_score(y_true, y_pred, average='weighted', zero_division=0)\n",
    "    revocacao = recall_score(y_true, y_pred, average='weighted', zero_division=0)\n",
    "    f1 = f1_score(y_true, y_pred, average='weighted', zero_division=0)\n",
    "    \n",
    "    print(f\"Acurácia: {acuracia:.4f}\")\n",
    "    print(f\"Precisão: {precisao:.4f}\")\n",
    "    print(f\"Revocação: {revocacao:.4f}\")\n",
    "    print(f\"F1-score: {f1:.4f}\")\n",
    "    \n",
    "    # Relatório de classificação\n",
    "    print(\"\\nRelatório de Classificação:\")\n",
    "    print(classification_report(y_true, y_pred, zero_division=0))\n",
    "    \n",
    "    # Matriz de confusão\n",
    "    cm = confusion_matrix(y_true, y_pred)\n",
    "    plt.figure(figsize=(5,4))\n",
    "    sns.heatmap(cm, annot=True, fmt='d', cmap='Blues',\n",
    "                xticklabels=sorted(y_true.unique()),\n",
    "                yticklabels=sorted(y_true.unique()))\n",
    "    plt.xlabel('Predição')\n",
    "    plt.ylabel('Verdadeiro')\n",
    "    plt.title(f'Matriz de Confusão - {assunto}')\n",
    "    plt.show()"
   ]
  },
  {
   "cell_type": "markdown",
   "id": "5dff533e",
   "metadata": {},
   "source": [
    "# Analisando os resultados do modelo pago"
   ]
  },
  {
   "cell_type": "code",
   "execution_count": 8,
   "id": "58530808",
   "metadata": {},
   "outputs": [
    {
     "data": {
      "text/html": [
       "<div>\n",
       "<style scoped>\n",
       "    .dataframe tbody tr th:only-of-type {\n",
       "        vertical-align: middle;\n",
       "    }\n",
       "\n",
       "    .dataframe tbody tr th {\n",
       "        vertical-align: top;\n",
       "    }\n",
       "\n",
       "    .dataframe thead th {\n",
       "        text-align: right;\n",
       "    }\n",
       "</style>\n",
       "<table border=\"1\" class=\"dataframe\">\n",
       "  <thead>\n",
       "    <tr style=\"text-align: right;\">\n",
       "      <th></th>\n",
       "      <th>target_id</th>\n",
       "      <th>mensagem_id</th>\n",
       "      <th>message</th>\n",
       "      <th>target_message</th>\n",
       "      <th>parent_message</th>\n",
       "      <th>label_original</th>\n",
       "      <th>classificacao</th>\n",
       "      <th>justificativa</th>\n",
       "      <th>assunto</th>\n",
       "    </tr>\n",
       "  </thead>\n",
       "  <tbody>\n",
       "    <tr>\n",
       "      <th>0</th>\n",
       "      <td>1</td>\n",
       "      <td>2</td>\n",
       "      <td>E olha que aqui tá cheio de liberais no sub, m...</td>\n",
       "      <td>Eu acho que a direita está sendo hipócrita ao ...</td>\n",
       "      <td>Incoerência da direita: pregam menos Estado, l...</td>\n",
       "      <td>Concorda</td>\n",
       "      <td>CONCORDA</td>\n",
       "      <td>A mensagem atual concorda com a crítica da men...</td>\n",
       "      <td>drogas</td>\n",
       "    </tr>\n",
       "    <tr>\n",
       "      <th>1</th>\n",
       "      <td>1</td>\n",
       "      <td>3</td>\n",
       "      <td>Daí dizem que defender o controle do Estado na...</td>\n",
       "      <td>Eu acho que a direita está sendo hipócrita ao ...</td>\n",
       "      <td>E olha que aqui tá cheio de liberais no sub, m...</td>\n",
       "      <td>Concorda</td>\n",
       "      <td>CONCORDA</td>\n",
       "      <td>A mensagem atual reforça a crítica à hipocrisi...</td>\n",
       "      <td>drogas</td>\n",
       "    </tr>\n",
       "    <tr>\n",
       "      <th>2</th>\n",
       "      <td>1</td>\n",
       "      <td>4</td>\n",
       "      <td>Faz uma enquete sobre legalização do aborto pa...</td>\n",
       "      <td>Eu acho que a direita está sendo hipócrita ao ...</td>\n",
       "      <td>Daí dizem que defender o controle do Estado na...</td>\n",
       "      <td>Concorda</td>\n",
       "      <td>CONCORDA</td>\n",
       "      <td>A mensagem atual, ao mencionar a questão do ab...</td>\n",
       "      <td>drogas</td>\n",
       "    </tr>\n",
       "    <tr>\n",
       "      <th>3</th>\n",
       "      <td>1</td>\n",
       "      <td>5</td>\n",
       "      <td>Pois é... outra vez: aborto não é questão de E...</td>\n",
       "      <td>Eu acho que a direita está sendo hipócrita ao ...</td>\n",
       "      <td>Faz uma enquete sobre legalização do aborto pa...</td>\n",
       "      <td>Concorda</td>\n",
       "      <td>CONCORDA</td>\n",
       "      <td>A mensagem atual concorda com a mensagem de re...</td>\n",
       "      <td>drogas</td>\n",
       "    </tr>\n",
       "    <tr>\n",
       "      <th>4</th>\n",
       "      <td>1</td>\n",
       "      <td>6</td>\n",
       "      <td>Se depender dos conservadores, eles vão proibi...</td>\n",
       "      <td>Eu acho que a direita está sendo hipócrita ao ...</td>\n",
       "      <td>Pois é... outra vez: aborto não é questão de E...</td>\n",
       "      <td>Concorda</td>\n",
       "      <td>CONCORDA</td>\n",
       "      <td>A mensagem atual, ao criticar a postura conser...</td>\n",
       "      <td>drogas</td>\n",
       "    </tr>\n",
       "  </tbody>\n",
       "</table>\n",
       "</div>"
      ],
      "text/plain": [
       "   target_id  mensagem_id                                            message  \\\n",
       "0          1            2  E olha que aqui tá cheio de liberais no sub, m...   \n",
       "1          1            3  Daí dizem que defender o controle do Estado na...   \n",
       "2          1            4  Faz uma enquete sobre legalização do aborto pa...   \n",
       "3          1            5  Pois é... outra vez: aborto não é questão de E...   \n",
       "4          1            6  Se depender dos conservadores, eles vão proibi...   \n",
       "\n",
       "                                      target_message  \\\n",
       "0  Eu acho que a direita está sendo hipócrita ao ...   \n",
       "1  Eu acho que a direita está sendo hipócrita ao ...   \n",
       "2  Eu acho que a direita está sendo hipócrita ao ...   \n",
       "3  Eu acho que a direita está sendo hipócrita ao ...   \n",
       "4  Eu acho que a direita está sendo hipócrita ao ...   \n",
       "\n",
       "                                      parent_message label_original  \\\n",
       "0  Incoerência da direita: pregam menos Estado, l...       Concorda   \n",
       "1  E olha que aqui tá cheio de liberais no sub, m...       Concorda   \n",
       "2  Daí dizem que defender o controle do Estado na...       Concorda   \n",
       "3  Faz uma enquete sobre legalização do aborto pa...       Concorda   \n",
       "4  Pois é... outra vez: aborto não é questão de E...       Concorda   \n",
       "\n",
       "  classificacao                                      justificativa assunto  \n",
       "0      CONCORDA  A mensagem atual concorda com a crítica da men...  drogas  \n",
       "1      CONCORDA  A mensagem atual reforça a crítica à hipocrisi...  drogas  \n",
       "2      CONCORDA  A mensagem atual, ao mencionar a questão do ab...  drogas  \n",
       "3      CONCORDA  A mensagem atual concorda com a mensagem de re...  drogas  \n",
       "4      CONCORDA  A mensagem atual, ao criticar a postura conser...  drogas  "
      ]
     },
     "execution_count": 8,
     "metadata": {},
     "output_type": "execute_result"
    }
   ],
   "source": [
    "import pandas as pd\n",
    "dados = pd.read_csv('checkpoint_resultados_completo_pago.csv', sep=',', decimal = ',', encoding = 'UTF-8')\n",
    "dados.head(5)"
   ]
  },
  {
   "cell_type": "code",
   "execution_count": 9,
   "id": "3a10ae02",
   "metadata": {},
   "outputs": [
    {
     "data": {
      "text/plain": [
       "classificacao\n",
       "CONCORDA    309\n",
       "DISCORDA    302\n",
       "OUTROS      281\n",
       "Name: count, dtype: int64"
      ]
     },
     "execution_count": 9,
     "metadata": {},
     "output_type": "execute_result"
    }
   ],
   "source": [
    "dados['classificacao'].value_counts()"
   ]
  },
  {
   "cell_type": "code",
   "execution_count": 10,
   "id": "843109d5",
   "metadata": {},
   "outputs": [],
   "source": [
    "# normalizando a classificação para ficar igual a label\n",
    "dados['classificacao'] = dados['classificacao'].str.capitalize()"
   ]
  },
  {
   "cell_type": "code",
   "execution_count": 11,
   "id": "6bbf5562",
   "metadata": {},
   "outputs": [
    {
     "data": {
      "text/plain": [
       "classificacao\n",
       "Concorda    309\n",
       "Discorda    302\n",
       "Outros      281\n",
       "Name: count, dtype: int64"
      ]
     },
     "execution_count": 11,
     "metadata": {},
     "output_type": "execute_result"
    }
   ],
   "source": [
    "dados['classificacao'].value_counts()"
   ]
  },
  {
   "cell_type": "code",
   "execution_count": 12,
   "id": "ba9cd805",
   "metadata": {},
   "outputs": [
    {
     "name": "stdout",
     "output_type": "stream",
     "text": [
      "Acurácia: 0.7265\n",
      "Precisão: 0.7288\n",
      "Revocação: 0.7265\n",
      "F1-score: 0.7269\n",
      "              precision    recall  f1-score   support\n",
      "\n",
      "    Concorda       0.80      0.74      0.77       334\n",
      "    Discorda       0.73      0.78      0.75       281\n",
      "      Outros       0.65      0.66      0.66       277\n",
      "\n",
      "    accuracy                           0.73       892\n",
      "   macro avg       0.72      0.73      0.72       892\n",
      "weighted avg       0.73      0.73      0.73       892\n",
      "\n"
     ]
    },
    {
     "data": {
      "image/png": "[encoded data removed]",
      "text/plain": [
       "<Figure size 600x400 with 2 Axes>"
      ]
     },
     "metadata": {},
     "output_type": "display_data"
    }
   ],
   "source": [
    "from sklearn.metrics import confusion_matrix, accuracy_score, precision_score, recall_score, f1_score, classification_report\n",
    "import pandas as pd\n",
    "import seaborn as sns\n",
    "import matplotlib.pyplot as plt\n",
    "\n",
    "# definindo o y verdadeiro e o y predito\n",
    "y_true = dados['label_original']\n",
    "y_pred = dados['classificacao']\n",
    "\n",
    "# Calculando cada uma das métricas\n",
    "acuracia = accuracy_score(y_true, y_pred)\n",
    "precisao = precision_score(y_true, y_pred, average='weighted')  # weighted para lidar com classes desbalanceadas\n",
    "revocacao = recall_score(y_true, y_pred, average='weighted')\n",
    "f1 = f1_score(y_true, y_pred, average='weighted')\n",
    "\n",
    "print(f\"Acurácia: {acuracia:.4f}\")\n",
    "print(f\"Precisão: {precisao:.4f}\")\n",
    "print(f\"Revocação: {revocacao:.4f}\")\n",
    "print(f\"F1-score: {f1:.4f}\")\n",
    "\n",
    "# obtendo o relatório completo de classificação\n",
    "print(classification_report(y_true, y_pred))\n",
    "\n",
    "# visualizando a matriz de confusão\n",
    "cm = confusion_matrix(y_true, y_pred)\n",
    "\n",
    "plt.figure(figsize=(6,4))\n",
    "sns.heatmap(cm, annot=True, fmt='d', cmap='Blues',\n",
    "            xticklabels=dados['label_original'].unique(),\n",
    "            yticklabels=dados['label_original'].unique())\n",
    "plt.xlabel('Predição')\n",
    "plt.ylabel('Verdadeiro')\n",
    "plt.title('Matriz de Confusão')\n",
    "plt.show()"
   ]
  },
  {
   "cell_type": "code",
   "execution_count": 13,
   "id": "cbbf9434",
   "metadata": {},
   "outputs": [
    {
     "name": "stdout",
     "output_type": "stream",
     "text": [
      "\n",
      "===== Assunto: aborto =====\n",
      "Acurácia: 0.7654\n",
      "Precisão: 0.7719\n",
      "Revocação: 0.7654\n",
      "F1-score: 0.7660\n",
      "\n",
      "Relatório de Classificação:\n",
      "              precision    recall  f1-score   support\n",
      "\n",
      "    Concorda       0.86      0.73      0.79        98\n",
      "    Discorda       0.76      0.85      0.80        92\n",
      "      Outros       0.66      0.70      0.68        70\n",
      "\n",
      "    accuracy                           0.77       260\n",
      "   macro avg       0.76      0.76      0.76       260\n",
      "weighted avg       0.77      0.77      0.77       260\n",
      "\n"
     ]
    },
    {
     "data": {
      "image/png": "[encoded data removed]",
      "text/plain": [
       "<Figure size 500x400 with 2 Axes>"
      ]
     },
     "metadata": {},
     "output_type": "display_data"
    },
    {
     "name": "stdout",
     "output_type": "stream",
     "text": [
      "\n",
      "===== Assunto: drogas =====\n",
      "Acurácia: 0.7080\n",
      "Precisão: 0.7110\n",
      "Revocação: 0.7080\n",
      "F1-score: 0.7053\n",
      "\n",
      "Relatório de Classificação:\n",
      "              precision    recall  f1-score   support\n",
      "\n",
      "    Concorda       0.73      0.77      0.75       137\n",
      "    Discorda       0.66      0.78      0.72       106\n",
      "      Outros       0.73      0.59      0.65       144\n",
      "\n",
      "    accuracy                           0.71       387\n",
      "   macro avg       0.71      0.72      0.71       387\n",
      "weighted avg       0.71      0.71      0.71       387\n",
      "\n"
     ]
    },
    {
     "data": {
      "image/png": "[encoded data removed]",
      "text/plain": [
       "<Figure size 500x400 with 2 Axes>"
      ]
     },
     "metadata": {},
     "output_type": "display_data"
    },
    {
     "name": "stdout",
     "output_type": "stream",
     "text": [
      "\n",
      "===== Assunto: sexualidade =====\n",
      "Acurácia: 0.7143\n",
      "Precisão: 0.7455\n",
      "Revocação: 0.7143\n",
      "F1-score: 0.7204\n",
      "\n",
      "Relatório de Classificação:\n",
      "              precision    recall  f1-score   support\n",
      "\n",
      "    Concorda       0.85      0.69      0.76        99\n",
      "    Discorda       0.77      0.70      0.73        83\n",
      "      Outros       0.54      0.78      0.64        63\n",
      "\n",
      "    accuracy                           0.71       245\n",
      "   macro avg       0.72      0.72      0.71       245\n",
      "weighted avg       0.75      0.71      0.72       245\n",
      "\n"
     ]
    },
    {
     "data": {
      "image/png": "[encoded data removed]",
      "text/plain": [
       "<Figure size 500x400 with 2 Axes>"
      ]
     },
     "metadata": {},
     "output_type": "display_data"
    }
   ],
   "source": [
    "from sklearn.metrics import accuracy_score, precision_score, recall_score, f1_score, classification_report, confusion_matrix\n",
    "import seaborn as sns\n",
    "import matplotlib.pyplot as plt\n",
    "\n",
    "# Loop por cada assunto\n",
    "for assunto, grupo in dados.groupby(\"assunto\"):\n",
    "    print(f\"\\n===== Assunto: {assunto} =====\")\n",
    "    \n",
    "    y_true = grupo['label_original']\n",
    "    y_pred = grupo['classificacao']\n",
    "    \n",
    "    # Métricas\n",
    "    acuracia = accuracy_score(y_true, y_pred)\n",
    "    precisao = precision_score(y_true, y_pred, average='weighted', zero_division=0)\n",
    "    revocacao = recall_score(y_true, y_pred, average='weighted', zero_division=0)\n",
    "    f1 = f1_score(y_true, y_pred, average='weighted', zero_division=0)\n",
    "    \n",
    "    print(f\"Acurácia: {acuracia:.4f}\")\n",
    "    print(f\"Precisão: {precisao:.4f}\")\n",
    "    print(f\"Revocação: {revocacao:.4f}\")\n",
    "    print(f\"F1-score: {f1:.4f}\")\n",
    "    \n",
    "    # Relatório de classificação\n",
    "    print(\"\\nRelatório de Classificação:\")\n",
    "    print(classification_report(y_true, y_pred, zero_division=0))\n",
    "    \n",
    "    # Matriz de confusão\n",
    "    cm = confusion_matrix(y_true, y_pred)\n",
    "    plt.figure(figsize=(5,4))\n",
    "    sns.heatmap(cm, annot=True, fmt='d', cmap='Blues',\n",
    "                xticklabels=sorted(y_true.unique()),\n",
    "                yticklabels=sorted(y_true.unique()))\n",
    "    plt.xlabel('Predição')\n",
    "    plt.ylabel('Verdadeiro')\n",
    "    plt.title(f'Matriz de Confusão - {assunto}')\n",
    "    plt.show()"
   ]
  }
 ],
 "metadata": {
  "kernelspec": {
   "display_name": "Python 3",
   "language": "python",
   "name": "python3"
  },
  "language_info": {
   "codemirror_mode": {
    "name": "ipython",
    "version": 3
   },
   "file_extension": ".py",
   "mimetype": "text/x-python",
   "name": "python",
   "nbconvert_exporter": "python",
   "pygments_lexer": "ipython3",
   "version": "3.12.3"
  }
 },
 "nbformat": 4,
 "nbformat_minor": 5
}
