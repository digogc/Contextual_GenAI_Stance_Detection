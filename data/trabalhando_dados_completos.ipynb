{
 "cells": [
  {
   "cell_type": "code",
   "execution_count": 57,
   "id": "6c927ad5",
   "metadata": {},
   "outputs": [
    {
     "data": {
      "text/html": [
       "<div>\n",
       "<style scoped>\n",
       "    .dataframe tbody tr th:only-of-type {\n",
       "        vertical-align: middle;\n",
       "    }\n",
       "\n",
       "    .dataframe tbody tr th {\n",
       "        vertical-align: top;\n",
       "    }\n",
       "\n",
       "    .dataframe thead th {\n",
       "        text-align: right;\n",
       "    }\n",
       "</style>\n",
       "<table border=\"1\" class=\"dataframe\">\n",
       "  <thead>\n",
       "    <tr style=\"text-align: right;\">\n",
       "      <th></th>\n",
       "      <th>target_id</th>\n",
       "      <th>target_message</th>\n",
       "      <th>id</th>\n",
       "      <th>parent_id</th>\n",
       "      <th>author</th>\n",
       "      <th>parent_name</th>\n",
       "      <th>parent_message</th>\n",
       "      <th>message</th>\n",
       "      <th>parent_label</th>\n",
       "      <th>target_parent_message</th>\n",
       "      <th>target_and_message</th>\n",
       "      <th>label</th>\n",
       "    </tr>\n",
       "  </thead>\n",
       "  <tbody>\n",
       "    <tr>\n",
       "      <th>0</th>\n",
       "      <td>1</td>\n",
       "      <td>Eu acho que a direita está sendo hipócrita ao ...</td>\n",
       "      <td>jun76kr</td>\n",
       "      <td>15h8cpw</td>\n",
       "      <td>Gerald_Huber</td>\n",
       "      <td>Raiz</td>\n",
       "      <td>NaN</td>\n",
       "      <td>Incoerência da direita: pregam menos Estado, l...</td>\n",
       "      <td>Alvo da conversa</td>\n",
       "      <td>Eu acho que a direita está sendo hipócrita ao ...</td>\n",
       "      <td>Eu acho que a direita está sendo hipócrita ao ...</td>\n",
       "      <td>Concorda</td>\n",
       "    </tr>\n",
       "    <tr>\n",
       "      <th>1</th>\n",
       "      <td>1</td>\n",
       "      <td>Eu acho que a direita está sendo hipócrita ao ...</td>\n",
       "      <td>juna2pp</td>\n",
       "      <td>jun76kr</td>\n",
       "      <td>Jeremy_Newman</td>\n",
       "      <td>Gerald_Huber</td>\n",
       "      <td>Incoerência da direita: pregam menos Estado, l...</td>\n",
       "      <td>E olha que aqui tá cheio de liberais no sub, m...</td>\n",
       "      <td>Concorda</td>\n",
       "      <td>Eu acho que a direita está sendo hipócrita ao ...</td>\n",
       "      <td>Eu acho que a direita está sendo hipócrita ao ...</td>\n",
       "      <td>Concorda</td>\n",
       "    </tr>\n",
       "    <tr>\n",
       "      <th>2</th>\n",
       "      <td>1</td>\n",
       "      <td>Eu acho que a direita está sendo hipócrita ao ...</td>\n",
       "      <td>junarew</td>\n",
       "      <td>juna2pp</td>\n",
       "      <td>Gerald_Huber</td>\n",
       "      <td>Jeremy_Newman</td>\n",
       "      <td>E olha que aqui tá cheio de liberais no sub, m...</td>\n",
       "      <td>Daí dizem que defender o controle do Estado na...</td>\n",
       "      <td>Concorda</td>\n",
       "      <td>Eu acho que a direita está sendo hipócrita ao ...</td>\n",
       "      <td>Eu acho que a direita está sendo hipócrita ao ...</td>\n",
       "      <td>Concorda</td>\n",
       "    </tr>\n",
       "    <tr>\n",
       "      <th>3</th>\n",
       "      <td>1</td>\n",
       "      <td>Eu acho que a direita está sendo hipócrita ao ...</td>\n",
       "      <td>junbgq9</td>\n",
       "      <td>junarew</td>\n",
       "      <td>Jeremy_Newman</td>\n",
       "      <td>Gerald_Huber</td>\n",
       "      <td>Daí dizem que defender o controle do Estado na...</td>\n",
       "      <td>Faz uma enquete sobre legalização do aborto pa...</td>\n",
       "      <td>Concorda</td>\n",
       "      <td>Eu acho que a direita está sendo hipócrita ao ...</td>\n",
       "      <td>Eu acho que a direita está sendo hipócrita ao ...</td>\n",
       "      <td>Concorda</td>\n",
       "    </tr>\n",
       "    <tr>\n",
       "      <th>4</th>\n",
       "      <td>1</td>\n",
       "      <td>Eu acho que a direita está sendo hipócrita ao ...</td>\n",
       "      <td>juncvrw</td>\n",
       "      <td>junbgq9</td>\n",
       "      <td>Gerald_Huber</td>\n",
       "      <td>Jeremy_Newman</td>\n",
       "      <td>Faz uma enquete sobre legalização do aborto pa...</td>\n",
       "      <td>Pois é... outra vez: aborto não é questão de E...</td>\n",
       "      <td>Concorda</td>\n",
       "      <td>Eu acho que a direita está sendo hipócrita ao ...</td>\n",
       "      <td>Eu acho que a direita está sendo hipócrita ao ...</td>\n",
       "      <td>Concorda</td>\n",
       "    </tr>\n",
       "  </tbody>\n",
       "</table>\n",
       "</div>"
      ],
      "text/plain": [
       "   target_id                                     target_message       id  \\\n",
       "0          1  Eu acho que a direita está sendo hipócrita ao ...  jun76kr   \n",
       "1          1  Eu acho que a direita está sendo hipócrita ao ...  juna2pp   \n",
       "2          1  Eu acho que a direita está sendo hipócrita ao ...  junarew   \n",
       "3          1  Eu acho que a direita está sendo hipócrita ao ...  junbgq9   \n",
       "4          1  Eu acho que a direita está sendo hipócrita ao ...  juncvrw   \n",
       "\n",
       "  parent_id         author    parent_name  \\\n",
       "0   15h8cpw   Gerald_Huber           Raiz   \n",
       "1   jun76kr  Jeremy_Newman   Gerald_Huber   \n",
       "2   juna2pp   Gerald_Huber  Jeremy_Newman   \n",
       "3   junarew  Jeremy_Newman   Gerald_Huber   \n",
       "4   junbgq9   Gerald_Huber  Jeremy_Newman   \n",
       "\n",
       "                                      parent_message  \\\n",
       "0                                                NaN   \n",
       "1  Incoerência da direita: pregam menos Estado, l...   \n",
       "2  E olha que aqui tá cheio de liberais no sub, m...   \n",
       "3  Daí dizem que defender o controle do Estado na...   \n",
       "4  Faz uma enquete sobre legalização do aborto pa...   \n",
       "\n",
       "                                             message      parent_label  \\\n",
       "0  Incoerência da direita: pregam menos Estado, l...  Alvo da conversa   \n",
       "1  E olha que aqui tá cheio de liberais no sub, m...          Concorda   \n",
       "2  Daí dizem que defender o controle do Estado na...          Concorda   \n",
       "3  Faz uma enquete sobre legalização do aborto pa...          Concorda   \n",
       "4  Pois é... outra vez: aborto não é questão de E...          Concorda   \n",
       "\n",
       "                               target_parent_message  \\\n",
       "0  Eu acho que a direita está sendo hipócrita ao ...   \n",
       "1  Eu acho que a direita está sendo hipócrita ao ...   \n",
       "2  Eu acho que a direita está sendo hipócrita ao ...   \n",
       "3  Eu acho que a direita está sendo hipócrita ao ...   \n",
       "4  Eu acho que a direita está sendo hipócrita ao ...   \n",
       "\n",
       "                                  target_and_message     label  \n",
       "0  Eu acho que a direita está sendo hipócrita ao ...  Concorda  \n",
       "1  Eu acho que a direita está sendo hipócrita ao ...  Concorda  \n",
       "2  Eu acho que a direita está sendo hipócrita ao ...  Concorda  \n",
       "3  Eu acho que a direita está sendo hipócrita ao ...  Concorda  \n",
       "4  Eu acho que a direita está sendo hipócrita ao ...  Concorda  "
      ]
     },
     "execution_count": 57,
     "metadata": {},
     "output_type": "execute_result"
    }
   ],
   "source": [
    "import pandas as pd\n",
    "dados = pd.read_csv('./conjuntoDeDados.tsv', sep='\\t', decimal = ',', encoding = 'UTF-8')\n",
    "dados.head(5)"
   ]
  },
  {
   "cell_type": "code",
   "execution_count": 56,
   "id": "ff0e4ee9",
   "metadata": {},
   "outputs": [
    {
     "data": {
      "text/html": [
       "<div>\n",
       "<style scoped>\n",
       "    .dataframe tbody tr th:only-of-type {\n",
       "        vertical-align: middle;\n",
       "    }\n",
       "\n",
       "    .dataframe tbody tr th {\n",
       "        vertical-align: top;\n",
       "    }\n",
       "\n",
       "    .dataframe thead th {\n",
       "        text-align: right;\n",
       "    }\n",
       "</style>\n",
       "<table border=\"1\" class=\"dataframe\">\n",
       "  <thead>\n",
       "    <tr style=\"text-align: right;\">\n",
       "      <th></th>\n",
       "      <th>target_id</th>\n",
       "      <th>mensagem_id</th>\n",
       "      <th>message</th>\n",
       "      <th>target_message</th>\n",
       "      <th>parent_message</th>\n",
       "      <th>label_original</th>\n",
       "      <th>classificacao</th>\n",
       "      <th>justificativa</th>\n",
       "    </tr>\n",
       "  </thead>\n",
       "  <tbody>\n",
       "    <tr>\n",
       "      <th>22</th>\n",
       "      <td>2</td>\n",
       "      <td>2</td>\n",
       "      <td>Não. É permitido em casos de alegação de estup...</td>\n",
       "      <td>Hoje em dia o aborto é permitido em casos de e...</td>\n",
       "      <td>E o aborto já é permitido em casos de estupro.</td>\n",
       "      <td>Discorda</td>\n",
       "      <td>DISCORDA</td>\n",
       "      <td>A mensagem atual contesta a validade implícita...</td>\n",
       "    </tr>\n",
       "    <tr>\n",
       "      <th>23</th>\n",
       "      <td>2</td>\n",
       "      <td>3</td>\n",
       "      <td>Poisé, acho a legislação perfeita a respeito d...</td>\n",
       "      <td>Hoje em dia o aborto é permitido em casos de e...</td>\n",
       "      <td>E o aborto já é permitido em casos de estupro.</td>\n",
       "      <td>Concorda</td>\n",
       "      <td>CONCORDA</td>\n",
       "      <td>A mensagem atual expressa concordância com a m...</td>\n",
       "    </tr>\n",
       "    <tr>\n",
       "      <th>24</th>\n",
       "      <td>2</td>\n",
       "      <td>4</td>\n",
       "      <td>Mas os conservadores cornos já querem proibir ...</td>\n",
       "      <td>Hoje em dia o aborto é permitido em casos de e...</td>\n",
       "      <td>E o aborto já é permitido em casos de estupro.</td>\n",
       "      <td>Concorda</td>\n",
       "      <td>DISCORDA</td>\n",
       "      <td>A mensagem atual, ao mencionar a intenção de c...</td>\n",
       "    </tr>\n",
       "    <tr>\n",
       "      <th>25</th>\n",
       "      <td>2</td>\n",
       "      <td>5</td>\n",
       "      <td>Falácia do espantalho...  ![gif](giphy|hLrw0Rz...</td>\n",
       "      <td>Hoje em dia o aborto é permitido em casos de e...</td>\n",
       "      <td>Mas os conservadores cornos já querem proibir ...</td>\n",
       "      <td>Outros</td>\n",
       "      <td>DISCORDA</td>\n",
       "      <td>A mensagem atual acusa a mensagem anterior (4)...</td>\n",
       "    </tr>\n",
       "    <tr>\n",
       "      <th>26</th>\n",
       "      <td>2</td>\n",
       "      <td>6</td>\n",
       "      <td>Se nasce, quer dizer que não representa risco....</td>\n",
       "      <td>Hoje em dia o aborto é permitido em casos de e...</td>\n",
       "      <td>Mas os conservadores cornos já querem proibir ...</td>\n",
       "      <td>Outros</td>\n",
       "      <td>DISCORDA</td>\n",
       "      <td>A mensagem atual discorda da premissa da mensa...</td>\n",
       "    </tr>\n",
       "  </tbody>\n",
       "</table>\n",
       "</div>"
      ],
      "text/plain": [
       "    target_id  mensagem_id                                            message  \\\n",
       "22          2            2  Não. É permitido em casos de alegação de estup...   \n",
       "23          2            3  Poisé, acho a legislação perfeita a respeito d...   \n",
       "24          2            4  Mas os conservadores cornos já querem proibir ...   \n",
       "25          2            5  Falácia do espantalho...  ![gif](giphy|hLrw0Rz...   \n",
       "26          2            6  Se nasce, quer dizer que não representa risco....   \n",
       "\n",
       "                                       target_message  \\\n",
       "22  Hoje em dia o aborto é permitido em casos de e...   \n",
       "23  Hoje em dia o aborto é permitido em casos de e...   \n",
       "24  Hoje em dia o aborto é permitido em casos de e...   \n",
       "25  Hoje em dia o aborto é permitido em casos de e...   \n",
       "26  Hoje em dia o aborto é permitido em casos de e...   \n",
       "\n",
       "                                       parent_message label_original  \\\n",
       "22     E o aborto já é permitido em casos de estupro.       Discorda   \n",
       "23     E o aborto já é permitido em casos de estupro.       Concorda   \n",
       "24     E o aborto já é permitido em casos de estupro.       Concorda   \n",
       "25  Mas os conservadores cornos já querem proibir ...         Outros   \n",
       "26  Mas os conservadores cornos já querem proibir ...         Outros   \n",
       "\n",
       "   classificacao                                      justificativa  \n",
       "22      DISCORDA  A mensagem atual contesta a validade implícita...  \n",
       "23      CONCORDA  A mensagem atual expressa concordância com a m...  \n",
       "24      DISCORDA  A mensagem atual, ao mencionar a intenção de c...  \n",
       "25      DISCORDA  A mensagem atual acusa a mensagem anterior (4)...  \n",
       "26      DISCORDA  A mensagem atual discorda da premissa da mensa...  "
      ]
     },
     "execution_count": 56,
     "metadata": {},
     "output_type": "execute_result"
    }
   ],
   "source": [
    "alvo2 = dados[(dados['target_id'] == 2)]\n",
    "alvo2.head(5)"
   ]
  },
  {
   "cell_type": "code",
   "execution_count": 4,
   "id": "93b5b65f",
   "metadata": {},
   "outputs": [
    {
     "data": {
      "text/plain": [
       "2266"
      ]
     },
     "execution_count": 4,
     "metadata": {},
     "output_type": "execute_result"
    }
   ],
   "source": [
    "len(dados)"
   ]
  },
  {
   "cell_type": "code",
   "execution_count": 55,
   "id": "bb402763",
   "metadata": {},
   "outputs": [
    {
     "data": {
      "text/html": [
       "<div>\n",
       "<style scoped>\n",
       "    .dataframe tbody tr th:only-of-type {\n",
       "        vertical-align: middle;\n",
       "    }\n",
       "\n",
       "    .dataframe tbody tr th {\n",
       "        vertical-align: top;\n",
       "    }\n",
       "\n",
       "    .dataframe thead th {\n",
       "        text-align: right;\n",
       "    }\n",
       "</style>\n",
       "<table border=\"1\" class=\"dataframe\">\n",
       "  <thead>\n",
       "    <tr style=\"text-align: right;\">\n",
       "      <th></th>\n",
       "      <th>target_id</th>\n",
       "      <th>mensagem_id</th>\n",
       "      <th>message</th>\n",
       "      <th>target_message</th>\n",
       "      <th>parent_message</th>\n",
       "      <th>label_original</th>\n",
       "      <th>classificacao</th>\n",
       "      <th>justificativa</th>\n",
       "    </tr>\n",
       "  </thead>\n",
       "  <tbody>\n",
       "    <tr>\n",
       "      <th>0</th>\n",
       "      <td>1</td>\n",
       "      <td>2</td>\n",
       "      <td>É engraçado que, se formos seguir a lógica do ...</td>\n",
       "      <td>A paternidade deveria ser considerada nas disc...</td>\n",
       "      <td>E a paternidade, Sra. Ministra ? Considerando ...</td>\n",
       "      <td>Concorda</td>\n",
       "      <td>CONCORDA</td>\n",
       "      <td>A mensagem atual concorda com a ideia central ...</td>\n",
       "    </tr>\n",
       "    <tr>\n",
       "      <th>1</th>\n",
       "      <td>1</td>\n",
       "      <td>3</td>\n",
       "      <td>Na hora de abortar é escolha da mulher, na hor...</td>\n",
       "      <td>A paternidade deveria ser considerada nas disc...</td>\n",
       "      <td>É engraçado que, se formos seguir a lógica do ...</td>\n",
       "      <td>Concorda</td>\n",
       "      <td>DISCORDA</td>\n",
       "      <td>A mensagem atual contesta a ideia de equiparaç...</td>\n",
       "    </tr>\n",
       "    <tr>\n",
       "      <th>2</th>\n",
       "      <td>1</td>\n",
       "      <td>4</td>\n",
       "      <td>Sabe qual é o bizarro em um contexto onde o ab...</td>\n",
       "      <td>A paternidade deveria ser considerada nas disc...</td>\n",
       "      <td>Na hora de abortar é escolha da mulher, na hor...</td>\n",
       "      <td>Concorda</td>\n",
       "      <td>CONCORDA</td>\n",
       "      <td>A mensagem atual expande e aprofunda o argumen...</td>\n",
       "    </tr>\n",
       "    <tr>\n",
       "      <th>3</th>\n",
       "      <td>1</td>\n",
       "      <td>5</td>\n",
       "      <td>Alguns pontos, concordo que em caso do aborto ...</td>\n",
       "      <td>A paternidade deveria ser considerada nas disc...</td>\n",
       "      <td>Sabe qual é o bizarro em um contexto onde o ab...</td>\n",
       "      <td>Concorda</td>\n",
       "      <td>CONCORDA</td>\n",
       "      <td>A mensagem atual demonstra concordância com a ...</td>\n",
       "    </tr>\n",
       "    <tr>\n",
       "      <th>4</th>\n",
       "      <td>1</td>\n",
       "      <td>6</td>\n",
       "      <td>Em relação ao último ponto é para evitar que a...</td>\n",
       "      <td>A paternidade deveria ser considerada nas disc...</td>\n",
       "      <td>Alguns pontos, concordo que em caso do aborto ...</td>\n",
       "      <td>Outros</td>\n",
       "      <td>CONCORDA</td>\n",
       "      <td>A mensagem atual continua a desenvolver o argu...</td>\n",
       "    </tr>\n",
       "  </tbody>\n",
       "</table>\n",
       "</div>"
      ],
      "text/plain": [
       "   target_id  mensagem_id                                            message  \\\n",
       "0          1            2  É engraçado que, se formos seguir a lógica do ...   \n",
       "1          1            3  Na hora de abortar é escolha da mulher, na hor...   \n",
       "2          1            4  Sabe qual é o bizarro em um contexto onde o ab...   \n",
       "3          1            5  Alguns pontos, concordo que em caso do aborto ...   \n",
       "4          1            6  Em relação ao último ponto é para evitar que a...   \n",
       "\n",
       "                                      target_message  \\\n",
       "0  A paternidade deveria ser considerada nas disc...   \n",
       "1  A paternidade deveria ser considerada nas disc...   \n",
       "2  A paternidade deveria ser considerada nas disc...   \n",
       "3  A paternidade deveria ser considerada nas disc...   \n",
       "4  A paternidade deveria ser considerada nas disc...   \n",
       "\n",
       "                                      parent_message label_original  \\\n",
       "0  E a paternidade, Sra. Ministra ? Considerando ...       Concorda   \n",
       "1  É engraçado que, se formos seguir a lógica do ...       Concorda   \n",
       "2  Na hora de abortar é escolha da mulher, na hor...       Concorda   \n",
       "3  Sabe qual é o bizarro em um contexto onde o ab...       Concorda   \n",
       "4  Alguns pontos, concordo que em caso do aborto ...         Outros   \n",
       "\n",
       "  classificacao                                      justificativa  \n",
       "0      CONCORDA  A mensagem atual concorda com a ideia central ...  \n",
       "1      DISCORDA  A mensagem atual contesta a ideia de equiparaç...  \n",
       "2      CONCORDA  A mensagem atual expande e aprofunda o argumen...  \n",
       "3      CONCORDA  A mensagem atual demonstra concordância com a ...  \n",
       "4      CONCORDA  A mensagem atual continua a desenvolver o argu...  "
      ]
     },
     "execution_count": 55,
     "metadata": {},
     "output_type": "execute_result"
    }
   ],
   "source": [
    "import pandas as pd\n",
    "dados = pd.read_csv('checkpoint_resultados_reduzido.csv', sep=',', decimal = ',', encoding = 'UTF-8')\n",
    "dados.head(5)"
   ]
  },
  {
   "cell_type": "markdown",
   "id": "184cc01d",
   "metadata": {},
   "source": [
    "É necessário tratar as anomalias geradas pela IA e normalizar os rótulos"
   ]
  },
  {
   "cell_type": "code",
   "execution_count": 49,
   "id": "538d7dd6",
   "metadata": {},
   "outputs": [
    {
     "data": {
      "text/plain": [
       "classificacao\n",
       "DISCORDA        267\n",
       "CONCORDA        183\n",
       "OUTROS          177\n",
       "OUTROS]           2\n",
       "**DISCORDA**      1\n",
       "DISCORDA]         1\n",
       "Name: count, dtype: int64"
      ]
     },
     "execution_count": 49,
     "metadata": {},
     "output_type": "execute_result"
    }
   ],
   "source": [
    "dados['classificacao'].value_counts()"
   ]
  },
  {
   "cell_type": "code",
   "execution_count": 50,
   "id": "94f80e6e",
   "metadata": {},
   "outputs": [],
   "source": [
    "# Tratando as anomalias das classificações geradas pela IA\n",
    "dados['classificacao'] = dados['classificacao'].str.strip('*]')"
   ]
  },
  {
   "cell_type": "code",
   "execution_count": 51,
   "id": "55d39047",
   "metadata": {},
   "outputs": [
    {
     "data": {
      "text/plain": [
       "classificacao\n",
       "DISCORDA    269\n",
       "CONCORDA    183\n",
       "OUTROS      179\n",
       "Name: count, dtype: int64"
      ]
     },
     "execution_count": 51,
     "metadata": {},
     "output_type": "execute_result"
    }
   ],
   "source": [
    "dados['classificacao'].value_counts()"
   ]
  },
  {
   "cell_type": "code",
   "execution_count": 52,
   "id": "01c26398",
   "metadata": {},
   "outputs": [],
   "source": [
    "# normalizando a classificação para ficar igual a label\n",
    "dados['classificacao'] = dados['classificacao'].str.capitalize()"
   ]
  },
  {
   "cell_type": "code",
   "execution_count": 53,
   "id": "660830e4",
   "metadata": {},
   "outputs": [
    {
     "data": {
      "text/plain": [
       "classificacao\n",
       "Discorda    269\n",
       "Concorda    183\n",
       "Outros      179\n",
       "Name: count, dtype: int64"
      ]
     },
     "execution_count": 53,
     "metadata": {},
     "output_type": "execute_result"
    }
   ],
   "source": [
    "dados['classificacao'].value_counts()"
   ]
  },
  {
   "cell_type": "code",
   "execution_count": 54,
   "id": "ad1a9bc0",
   "metadata": {},
   "outputs": [
    {
     "data": {
      "text/plain": [
       "label_original\n",
       "Discorda    235\n",
       "Concorda    228\n",
       "Outros      168\n",
       "Name: count, dtype: int64"
      ]
     },
     "execution_count": 54,
     "metadata": {},
     "output_type": "execute_result"
    }
   ],
   "source": [
    "dados['label_original'].value_counts()"
   ]
  },
  {
   "cell_type": "code",
   "execution_count": null,
   "id": "04100924",
   "metadata": {},
   "outputs": [],
   "source": [
    "# Quero fazer um código que indica... ainda vou lembrar"
   ]
  },
  {
   "cell_type": "markdown",
   "id": "f019d136",
   "metadata": {},
   "source": [
    "# Utilizando os resultados do conjunto de dados completo"
   ]
  },
  {
   "cell_type": "code",
   "execution_count": 137,
   "id": "0b30e1b5",
   "metadata": {},
   "outputs": [
    {
     "data": {
      "text/html": [
       "<div>\n",
       "<style scoped>\n",
       "    .dataframe tbody tr th:only-of-type {\n",
       "        vertical-align: middle;\n",
       "    }\n",
       "\n",
       "    .dataframe tbody tr th {\n",
       "        vertical-align: top;\n",
       "    }\n",
       "\n",
       "    .dataframe thead th {\n",
       "        text-align: right;\n",
       "    }\n",
       "</style>\n",
       "<table border=\"1\" class=\"dataframe\">\n",
       "  <thead>\n",
       "    <tr style=\"text-align: right;\">\n",
       "      <th></th>\n",
       "      <th>target_id</th>\n",
       "      <th>mensagem_id</th>\n",
       "      <th>message</th>\n",
       "      <th>target_message</th>\n",
       "      <th>parent_message</th>\n",
       "      <th>label_original</th>\n",
       "      <th>classificacao</th>\n",
       "      <th>justificativa</th>\n",
       "    </tr>\n",
       "  </thead>\n",
       "  <tbody>\n",
       "    <tr>\n",
       "      <th>0</th>\n",
       "      <td>1</td>\n",
       "      <td>2</td>\n",
       "      <td>E olha que aqui tá cheio de liberais no sub, m...</td>\n",
       "      <td>Eu acho que a direita está sendo hipócrita ao ...</td>\n",
       "      <td>Incoerência da direita: pregam menos Estado, l...</td>\n",
       "      <td>Concorda</td>\n",
       "      <td>CONCORDA</td>\n",
       "      <td>A mensagem atual concorda com a crítica implíc...</td>\n",
       "    </tr>\n",
       "    <tr>\n",
       "      <th>1</th>\n",
       "      <td>1</td>\n",
       "      <td>3</td>\n",
       "      <td>Daí dizem que defender o controle do Estado na...</td>\n",
       "      <td>Eu acho que a direita está sendo hipócrita ao ...</td>\n",
       "      <td>E olha que aqui tá cheio de liberais no sub, m...</td>\n",
       "      <td>Concorda</td>\n",
       "      <td>CONCORDA</td>\n",
       "      <td>A mensagem atual reforça a crítica à hipocrisi...</td>\n",
       "    </tr>\n",
       "    <tr>\n",
       "      <th>2</th>\n",
       "      <td>1</td>\n",
       "      <td>4</td>\n",
       "      <td>Faz uma enquete sobre legalização do aborto pa...</td>\n",
       "      <td>Eu acho que a direita está sendo hipócrita ao ...</td>\n",
       "      <td>Daí dizem que defender o controle do Estado na...</td>\n",
       "      <td>Concorda</td>\n",
       "      <td>OUTROS</td>\n",
       "      <td>A mensagem atual muda o foco da discussão orig...</td>\n",
       "    </tr>\n",
       "    <tr>\n",
       "      <th>3</th>\n",
       "      <td>1</td>\n",
       "      <td>5</td>\n",
       "      <td>Pois é... outra vez: aborto não é questão de E...</td>\n",
       "      <td>Eu acho que a direita está sendo hipócrita ao ...</td>\n",
       "      <td>Faz uma enquete sobre legalização do aborto pa...</td>\n",
       "      <td>Concorda</td>\n",
       "      <td>CONCORDA</td>\n",
       "      <td>A mensagem atual estende a crítica à intromiss...</td>\n",
       "    </tr>\n",
       "    <tr>\n",
       "      <th>4</th>\n",
       "      <td>1</td>\n",
       "      <td>6</td>\n",
       "      <td>Se depender dos conservadores, eles vão proibi...</td>\n",
       "      <td>Eu acho que a direita está sendo hipócrita ao ...</td>\n",
       "      <td>Pois é... outra vez: aborto não é questão de E...</td>\n",
       "      <td>Concorda</td>\n",
       "      <td>CONCORDA</td>\n",
       "      <td>A mensagem atual reforça a crítica à hipocrisi...</td>\n",
       "    </tr>\n",
       "  </tbody>\n",
       "</table>\n",
       "</div>"
      ],
      "text/plain": [
       "   target_id  mensagem_id                                            message  \\\n",
       "0          1            2  E olha que aqui tá cheio de liberais no sub, m...   \n",
       "1          1            3  Daí dizem que defender o controle do Estado na...   \n",
       "2          1            4  Faz uma enquete sobre legalização do aborto pa...   \n",
       "3          1            5  Pois é... outra vez: aborto não é questão de E...   \n",
       "4          1            6  Se depender dos conservadores, eles vão proibi...   \n",
       "\n",
       "                                      target_message  \\\n",
       "0  Eu acho que a direita está sendo hipócrita ao ...   \n",
       "1  Eu acho que a direita está sendo hipócrita ao ...   \n",
       "2  Eu acho que a direita está sendo hipócrita ao ...   \n",
       "3  Eu acho que a direita está sendo hipócrita ao ...   \n",
       "4  Eu acho que a direita está sendo hipócrita ao ...   \n",
       "\n",
       "                                      parent_message label_original  \\\n",
       "0  Incoerência da direita: pregam menos Estado, l...       Concorda   \n",
       "1  E olha que aqui tá cheio de liberais no sub, m...       Concorda   \n",
       "2  Daí dizem que defender o controle do Estado na...       Concorda   \n",
       "3  Faz uma enquete sobre legalização do aborto pa...       Concorda   \n",
       "4  Pois é... outra vez: aborto não é questão de E...       Concorda   \n",
       "\n",
       "  classificacao                                      justificativa  \n",
       "0      CONCORDA  A mensagem atual concorda com a crítica implíc...  \n",
       "1      CONCORDA  A mensagem atual reforça a crítica à hipocrisi...  \n",
       "2        OUTROS  A mensagem atual muda o foco da discussão orig...  \n",
       "3      CONCORDA  A mensagem atual estende a crítica à intromiss...  \n",
       "4      CONCORDA  A mensagem atual reforça a crítica à hipocrisi...  "
      ]
     },
     "execution_count": 137,
     "metadata": {},
     "output_type": "execute_result"
    }
   ],
   "source": [
    "import pandas as pd\n",
    "dados = pd.read_csv('checkpoint_resultados_completo.csv', sep=',', decimal = ',', encoding = 'UTF-8')\n",
    "dados.head(5)"
   ]
  },
  {
   "cell_type": "code",
   "execution_count": 138,
   "id": "b2d0b38c",
   "metadata": {},
   "outputs": [
    {
     "data": {
      "text/plain": [
       "classificacao\n",
       "OUTROS                            465\n",
       "DISCORDA                          447\n",
       "CONCORDA                          391\n",
       "CONCORDA]                           4\n",
       "DISCORDA`\\n`                        1\n",
       "DISCORDA`                           1\n",
       "OUTROS]                             1\n",
       "[CONCORDA / DISCORDA / OUTROS]      1\n",
       "DISCORDA]                           1\n",
       "Name: count, dtype: int64"
      ]
     },
     "execution_count": 138,
     "metadata": {},
     "output_type": "execute_result"
    }
   ],
   "source": [
    "dados['classificacao'].value_counts()"
   ]
  },
  {
   "cell_type": "code",
   "execution_count": 144,
   "id": "a3ea770a",
   "metadata": {},
   "outputs": [],
   "source": [
    "# Tratando as anomalias das classificações geradas pela IA\n",
    "dados['classificacao'] = dados['classificacao'].str.strip('*]`\\n')\n",
    "# dados['classificacao'] = dados['classificacao'].str.strip('\\n')\n",
    "# dados['classificacao'] = dados['classificacao'].str.strip('\\\\')"
   ]
  },
  {
   "cell_type": "code",
   "execution_count": 145,
   "id": "eb141fd7",
   "metadata": {},
   "outputs": [
    {
     "data": {
      "text/html": [
       "<div>\n",
       "<style scoped>\n",
       "    .dataframe tbody tr th:only-of-type {\n",
       "        vertical-align: middle;\n",
       "    }\n",
       "\n",
       "    .dataframe tbody tr th {\n",
       "        vertical-align: top;\n",
       "    }\n",
       "\n",
       "    .dataframe thead th {\n",
       "        text-align: right;\n",
       "    }\n",
       "</style>\n",
       "<table border=\"1\" class=\"dataframe\">\n",
       "  <thead>\n",
       "    <tr style=\"text-align: right;\">\n",
       "      <th></th>\n",
       "      <th>target_id</th>\n",
       "      <th>mensagem_id</th>\n",
       "      <th>message</th>\n",
       "      <th>target_message</th>\n",
       "      <th>parent_message</th>\n",
       "      <th>label_original</th>\n",
       "      <th>classificacao</th>\n",
       "      <th>justificativa</th>\n",
       "    </tr>\n",
       "  </thead>\n",
       "  <tbody>\n",
       "    <tr>\n",
       "      <th>1155</th>\n",
       "      <td>139</td>\n",
       "      <td>12</td>\n",
       "      <td>Ninguém liga pra visão religiosa. Casamento te...</td>\n",
       "      <td>Eu acho que casamento entre pessoas do mesmo s...</td>\n",
       "      <td>Não é casamento, pois o casamento pressupõe a ...</td>\n",
       "      <td>Discorda</td>\n",
       "      <td>[CONCORDA / DISCORDA / OUTROS</td>\n",
       "      <td>[1 a 3 frases explicando de forma clara e obje...</td>\n",
       "    </tr>\n",
       "  </tbody>\n",
       "</table>\n",
       "</div>"
      ],
      "text/plain": [
       "      target_id  mensagem_id  \\\n",
       "1155        139           12   \n",
       "\n",
       "                                                message  \\\n",
       "1155  Ninguém liga pra visão religiosa. Casamento te...   \n",
       "\n",
       "                                         target_message  \\\n",
       "1155  Eu acho que casamento entre pessoas do mesmo s...   \n",
       "\n",
       "                                         parent_message label_original  \\\n",
       "1155  Não é casamento, pois o casamento pressupõe a ...       Discorda   \n",
       "\n",
       "                      classificacao  \\\n",
       "1155  [CONCORDA / DISCORDA / OUTROS   \n",
       "\n",
       "                                          justificativa  \n",
       "1155  [1 a 3 frases explicando de forma clara e obje...  "
      ]
     },
     "execution_count": 145,
     "metadata": {},
     "output_type": "execute_result"
    }
   ],
   "source": [
    "# O agente não conseguiu distinguir qual é a classificação de uma das linhas, expondo ela:\n",
    "dados[dados['classificacao'] == '[CONCORDA / DISCORDA / OUTROS']"
   ]
  },
  {
   "cell_type": "code",
   "execution_count": 147,
   "id": "3a3f0dff",
   "metadata": {},
   "outputs": [
    {
     "name": "stdout",
     "output_type": "stream",
     "text": [
      "[1 a 3 frases explicando de forma clara e objetiva o motivo da classificação]\n",
      "```\n",
      "\n",
      "Exemplos:\n",
      "CONCORDA\n",
      "Mensagem de referência: Eu acho que a criminalização do aborto é um exemplo claro de como a religião pode influenciar a política de forma injusta.\n",
      "Mensagem atual: Apontar que um feto é uma vida não é suficiente para criminalizar o aborto. Precisamos de critérios objetivos.\n",
      "Justificativa: A mensagem atual concorda com o argumento da referência ao defender a descriminalização com base em critérios objetivos, reforçando a crítica à influência religiosa.\n",
      "\n",
      "DISCORDA\n",
      "Mensagem de referência: O aborto não é aceitável pois um feto é uma vida.\n",
      "Mensagem atual: O DNA não é critério suficiente para definir humanidade, e o direito à vida deveria considerar outras características.\n",
      "Justificativa: A mensagem atual contradiz diretamente o argumento da referência, ao questionar a base para considerar o feto como portador de direitos.\n",
      "\n",
      "OUTROS\n",
      "Mensagem de referência: A relativização do direito à vida abre portas para outros crimes, como o estupro.\n",
      "Mensagem atual: Defina \"espécie Homo sapiens\".\n",
      "Justificativa: A mensagem atual não se posiciona sobre o conteúdo da referência, apenas solicita uma definição.\n",
      "\n",
      "---\n",
      "\n",
      "**MENSAGEM ATUAL:**\n",
      "\n",
      "\"A discussão sobre o casamento é complexa e envolve diferentes visões de mundo. Acredito que o importante é garantir os direitos de todos, independentemente de sua orientação sexual.\"\n"
     ]
    }
   ],
   "source": [
    "# Pode-se observar que na verdade o modelo não respeitou a formatação solicitada. Verificando se a resposta está na justificativa:\n",
    "conteudo = dados.loc[1155, \"justificativa\"]\n",
    "print(conteudo)"
   ]
  },
  {
   "cell_type": "code",
   "execution_count": 121,
   "id": "4444874b",
   "metadata": {},
   "outputs": [
    {
     "data": {
      "text/plain": [
       "classificacao\n",
       "OUTROS                           466\n",
       "DISCORDA                         450\n",
       "CONCORDA                         395\n",
       "[CONCORDA / DISCORDA / OUTROS      1\n",
       "Name: count, dtype: int64"
      ]
     },
     "execution_count": 121,
     "metadata": {},
     "output_type": "execute_result"
    }
   ],
   "source": [
    "dados['classificacao'].value_counts()"
   ]
  },
  {
   "cell_type": "markdown",
   "id": "f8893898",
   "metadata": {},
   "source": [
    "Realmente pode-se concluir que o modelo alucinou, e não cedeu uma resposta.  \n",
    "Neste caso, rodarei novamente para ter uma resposta para essa saída e irei corrigir a linha manualmente."
   ]
  },
  {
   "cell_type": "code",
   "execution_count": 122,
   "id": "32083f5a",
   "metadata": {},
   "outputs": [],
   "source": [
    "# normalizando a classificação para ficar igual a label\n",
    "dados['classificacao'] = dados['classificacao'].str.capitalize()"
   ]
  },
  {
   "cell_type": "code",
   "execution_count": 123,
   "id": "0fc054d1",
   "metadata": {},
   "outputs": [
    {
     "data": {
      "text/plain": [
       "label_original\n",
       "Concorda    477\n",
       "Outros      446\n",
       "Discorda    389\n",
       "Name: count, dtype: int64"
      ]
     },
     "execution_count": 123,
     "metadata": {},
     "output_type": "execute_result"
    }
   ],
   "source": [
    "dados['label_original'].value_counts()"
   ]
  },
  {
   "cell_type": "markdown",
   "id": "aaf9d044",
   "metadata": {},
   "source": [
    "# Extraindo as métricas"
   ]
  },
  {
   "cell_type": "code",
   "execution_count": 124,
   "id": "a529b4e6",
   "metadata": {},
   "outputs": [],
   "source": [
    "# realizando os imports necessários\n",
    "from sklearn.metrics import confusion_matrix, accuracy_score, precision_score, recall_score, f1_score, classification_report\n",
    "import pandas as pd\n",
    "import seaborn as sns\n",
    "import matplotlib.pyplot as plt"
   ]
  },
  {
   "cell_type": "code",
   "execution_count": 125,
   "id": "6ee458c9",
   "metadata": {},
   "outputs": [],
   "source": [
    "# definindo o y verdadeiro e o y predito\n",
    "y_true = dados['label_original']\n",
    "y_pred = dados['classificacao']"
   ]
  },
  {
   "cell_type": "code",
   "execution_count": 126,
   "id": "d1c04f34",
   "metadata": {},
   "outputs": [
    {
     "name": "stdout",
     "output_type": "stream",
     "text": [
      "Acurácia: 0.6280\n",
      "Precisão: 0.6349\n",
      "Revocação: 0.6280\n",
      "F1-score: 0.6284\n"
     ]
    },
    {
     "name": "stderr",
     "output_type": "stream",
     "text": [
      "c:\\Users\\digog\\AppData\\Local\\Programs\\Python\\Python312\\Lib\\site-packages\\sklearn\\metrics\\_classification.py:1706: UndefinedMetricWarning: Recall is ill-defined and being set to 0.0 in labels with no true samples. Use `zero_division` parameter to control this behavior.\n",
      "  _warn_prf(average, modifier, f\"{metric.capitalize()} is\", result.shape[0])\n"
     ]
    }
   ],
   "source": [
    "# Calculando cada uma das métricas\n",
    "acuracia = accuracy_score(y_true, y_pred)\n",
    "precisao = precision_score(y_true, y_pred, average='weighted')  # weighted para lidar com classes desbalanceadas\n",
    "revocacao = recall_score(y_true, y_pred, average='weighted')\n",
    "f1 = f1_score(y_true, y_pred, average='weighted')\n",
    "\n",
    "print(f\"Acurácia: {acuracia:.4f}\")\n",
    "print(f\"Precisão: {precisao:.4f}\")\n",
    "print(f\"Revocação: {revocacao:.4f}\")\n",
    "print(f\"F1-score: {f1:.4f}\")"
   ]
  },
  {
   "cell_type": "code",
   "execution_count": 127,
   "id": "4af815bd",
   "metadata": {},
   "outputs": [
    {
     "name": "stdout",
     "output_type": "stream",
     "text": [
      "                               precision    recall  f1-score   support\n",
      "\n",
      "                     Concorda       0.69      0.57      0.62       477\n",
      "                     Discorda       0.57      0.66      0.61       389\n",
      "                       Outros       0.63      0.66      0.65       446\n",
      "[concorda / discorda / outros       0.00      0.00      0.00         0\n",
      "\n",
      "                     accuracy                           0.63      1312\n",
      "                    macro avg       0.47      0.47      0.47      1312\n",
      "                 weighted avg       0.63      0.63      0.63      1312\n",
      "\n"
     ]
    },
    {
     "name": "stderr",
     "output_type": "stream",
     "text": [
      "c:\\Users\\digog\\AppData\\Local\\Programs\\Python\\Python312\\Lib\\site-packages\\sklearn\\metrics\\_classification.py:1706: UndefinedMetricWarning: Recall is ill-defined and being set to 0.0 in labels with no true samples. Use `zero_division` parameter to control this behavior.\n",
      "  _warn_prf(average, modifier, f\"{metric.capitalize()} is\", result.shape[0])\n",
      "c:\\Users\\digog\\AppData\\Local\\Programs\\Python\\Python312\\Lib\\site-packages\\sklearn\\metrics\\_classification.py:1706: UndefinedMetricWarning: Recall is ill-defined and being set to 0.0 in labels with no true samples. Use `zero_division` parameter to control this behavior.\n",
      "  _warn_prf(average, modifier, f\"{metric.capitalize()} is\", result.shape[0])\n",
      "c:\\Users\\digog\\AppData\\Local\\Programs\\Python\\Python312\\Lib\\site-packages\\sklearn\\metrics\\_classification.py:1706: UndefinedMetricWarning: Recall is ill-defined and being set to 0.0 in labels with no true samples. Use `zero_division` parameter to control this behavior.\n",
      "  _warn_prf(average, modifier, f\"{metric.capitalize()} is\", result.shape[0])\n"
     ]
    }
   ],
   "source": [
    "# obtendo o relatório completo de classificação\n",
    "print(classification_report(y_true, y_pred))"
   ]
  },
  {
   "cell_type": "code",
   "execution_count": 128,
   "id": "02757ca6",
   "metadata": {},
   "outputs": [
    {
     "data": {
      "image/png": "[encoded data removed]",
      "text/plain": [
       "<Figure size 600x400 with 2 Axes>"
      ]
     },
     "metadata": {},
     "output_type": "display_data"
    }
   ],
   "source": [
    "# visualizando a matriz de confusão\n",
    "cm = confusion_matrix(y_true, y_pred)\n",
    "\n",
    "plt.figure(figsize=(6,4))\n",
    "sns.heatmap(cm, annot=True, fmt='d', cmap='Blues',\n",
    "            xticklabels=dados['label_original'].unique(),\n",
    "            yticklabels=dados['label_original'].unique())\n",
    "plt.xlabel('Predição')\n",
    "plt.ylabel('Verdadeiro')\n",
    "plt.title('Matriz de Confusão')\n",
    "plt.show()"
   ]
  },
  {
   "cell_type": "code",
   "execution_count": null,
   "id": "3940dfbd",
   "metadata": {},
   "outputs": [],
   "source": [
    "# quero fazer um estudo sobre em qual tipo de dicussão o modelo acertou mais"
   ]
  }
 ],
 "metadata": {
  "kernelspec": {
   "display_name": "Python 3",
   "language": "python",
   "name": "python3"
  },
  "language_info": {
   "codemirror_mode": {
    "name": "ipython",
    "version": 3
   },
   "file_extension": ".py",
   "mimetype": "text/x-python",
   "name": "python",
   "nbconvert_exporter": "python",
   "pygments_lexer": "ipython3",
   "version": "3.12.3"
  }
 },
 "nbformat": 4,
 "nbformat_minor": 5
}
